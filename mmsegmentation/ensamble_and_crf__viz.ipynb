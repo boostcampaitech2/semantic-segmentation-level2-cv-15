{
 "cells": [
  {
   "cell_type": "code",
   "execution_count": 1,
   "metadata": {},
   "outputs": [],
   "source": [
    "import os\n",
    "import mmcv\n",
    "from mmcv import Config\n",
    "\n",
    "from mmseg.datasets import build_dataloader, build_dataset\n",
    "from mmseg.models import build_segmentor\n",
    "from mmseg.apis import single_gpu_test\n",
    "\n",
    "from mmcv.runner import load_checkpoint\n",
    "from mmcv.parallel import MMDataParallel\n",
    "\n",
    "import pandas as pd\n",
    "import numpy as np\n",
    "import json\n",
    "import torch"
   ]
  },
  {
   "cell_type": "markdown",
   "metadata": {},
   "source": [
    "# ensemble test\n",
    "## setting"
   ]
  },
  {
   "cell_type": "code",
   "execution_count": 2,
   "metadata": {},
   "outputs": [
    {
     "name": "stderr",
     "output_type": "stream",
     "text": [
      "2021-11-04 08:32:16,125 - mmseg - INFO - Loaded 819 images\n"
     ]
    }
   ],
   "source": [
    "cfg = Config.fromfile('/opt/ml/mmsegmentation/configs/1.myconfig/upernet_swin.py')\n",
    "root = '/opt/ml/mmsegmentation/data/images/test'\n",
    "\n",
    "cfg.data.test.img_dir = root\n",
    "cfg.data.test.pipeline[1]['img_scale'] = (512,512)\n",
    "cfg.data.test.test_mode = True\n",
    "\n",
    "\n",
    "# cfg.work_dir = '/opt/ml/lab/mmsegmentation/work_dirs'\n",
    "cfg.work_dir = '/opt/ml/mmsegmentation/work_dirs/upernet_swin'\n",
    "\n",
    "cfg.optimizer_config.grad_clip = dict(max_norm=35, norm_type=2)\n",
    "cfg.model.train_cfg = None\n",
    "cfg.model['type'] = 'EncoderDecoderInference'\n",
    "\n",
    "#define dataset\n",
    "dataset = build_dataset(cfg.data.test)\n",
    "data_loader = build_dataloader(\n",
    "        dataset,\n",
    "        samples_per_gpu=1,\n",
    "        workers_per_gpu=cfg.data.workers_per_gpu,\n",
    "        dist=False,\n",
    "        shuffle=False)"
   ]
  },
  {
   "cell_type": "code",
   "execution_count": 3,
   "metadata": {},
   "outputs": [],
   "source": [
    "# cfg.model"
   ]
  },
  {
   "cell_type": "code",
   "execution_count": 3,
   "metadata": {},
   "outputs": [],
   "source": [
    "def get_pred_logit(model_path, CLASSES):\n",
    "    model = build_segmentor(cfg.model, test_cfg=cfg.get('test_cfg'))\n",
    "    checkpoint = load_checkpoint(model, model_path, map_location='cpu')\n",
    "    cfg.model['pretrained'] = None\n",
    "    model.CLASSES = CLASSES\n",
    "    model = MMDataParallel(model.cuda(), device_ids=[0])\n",
    "\n",
    "    return single_gpu_test(model, data_loader)"
   ]
  },
  {
   "cell_type": "code",
   "execution_count": 4,
   "metadata": {},
   "outputs": [
    {
     "name": "stderr",
     "output_type": "stream",
     "text": [
      "/opt/ml/mmsegmentation/mmseg/models/backbones/swin.py:553: UserWarning: DeprecationWarning: pretrained is deprecated, please use \"init_cfg\" instead\n",
      "  warnings.warn('DeprecationWarning: pretrained is deprecated, '\n"
     ]
    },
    {
     "name": "stdout",
     "output_type": "stream",
     "text": [
      "Use load_from_local loader\n",
      "[>>>>>>>>>>>>>>>>>>>>>>>>>>>>>] 819/819, 5.3 task/s, elapsed: 155s, ETA:     0s"
     ]
    }
   ],
   "source": [
    "# output_1 = get_pred_logit('/opt/ml/mmsegmentation/work_dirs/upernet_swin/swin_pseudo_Fold_1.pth', dataset.CLASSES)\n",
    "# output_2 = get_pred_logit('/opt/ml/mmsegmentation/work_dirs/upernet_swin/swin_pseudo_Fold_2.pth', dataset.CLASSES)\n",
    "# output_3 = get_pred_logit('/opt/ml/mmsegmentation/work_dirs/upernet_swin/swin_pseudo_Fold_3.pth', dataset.CLASSES)\n",
    "output_4 = get_pred_logit('/opt/ml/mmsegmentation/work_dirs/upernet_swin/swin_pseudo2_Fold_4.pth', dataset.CLASSES)\n",
    "# output_5 = get_pred_logit('/opt/ml/mmsegmentation/work_dirs/upernet_swin/swin_pseudo_Fold_5.pth', dataset.CLASSES)"
   ]
  },
  {
   "cell_type": "markdown",
   "metadata": {},
   "source": [
    "### ensemble start\n",
    "- result = sum(output_1, output_2)\n",
    "- argmax(result, axis=0)"
   ]
  },
  {
   "cell_type": "code",
   "execution_count": null,
   "metadata": {},
   "outputs": [
    {
     "name": "stdout",
     "output_type": "stream",
     "text": [
      "0 149133\n",
      "1 759\n",
      "8 112252\n",
      "0 149489\n",
      "8 112655\n",
      "0 148283\n",
      "1 25927\n",
      "8 87934\n",
      "0 148854\n",
      "1 59\n",
      "8 113231\n",
      "0 150062\n",
      "1 9568\n",
      "6 69\n",
      "8 102445\n"
     ]
    }
   ],
   "source": [
    "# def cal_class_counts(value):\n",
    "#     classes, counts = np.unique(value, return_counts=True)\n",
    "#     for i,v in zip(classes, counts):\n",
    "#         print(i,v)\n",
    "        \n",
    "# for item in predict_mask_array:\n",
    "#     cal_class_counts(item)"
   ]
  },
  {
   "cell_type": "code",
   "execution_count": 43,
   "metadata": {},
   "outputs": [],
   "source": [
    "output_to_mask = []\n",
    "crf_output_to_mask = []\n",
    "a = 0\n",
    "\n",
    "# for item_1 in output_1:\n",
    "#     for idx in range(11):\n",
    "#         a += item_1[idx][0][5]\n",
    "#         print(item_1[idx][0][5])\n",
    "    \n",
    "#     break\n",
    "    \n",
    "# print(a)\n",
    "    # new_item = item_1 + item_2 + item_3 + item_4 + item_5\n",
    "    # output_to_mask.append(new_item.argmax(axis=0))"
   ]
  },
  {
   "cell_type": "code",
   "execution_count": null,
   "metadata": {},
   "outputs": [],
   "source": [
    "# weight_model1 = [1, 1.05, 1, 1.18, 1.14, 0.95, 1.03, 0.99, 1, 1.07, 1.02]\n",
    "# weight_model2 = [1, 0.84, 0.98, 0.94, 1.05, 0.86, 1.07, 0.93, 0.99, 0.76, 1.06]\n",
    "# weight_model3 = [1, 1.05, 1, 0.93, 0.99, 1.18, 0.92, 1.09, 1.01, 1.07, 1.23]\n",
    "# weight_model4 = [1, 0.93, 1.02, 1.05, 0.93, 1, 1.03, 0.99, 1.01, 1.06, 0.83]\n",
    "# weight_model5 = [1, 1.12, 1, 0.91, 0.89, 1.02, 0.94, 1.01, 1, 1.04, 0.86]\n",
    "weight_model1 = [1,1,1,1,1,1,1,1,1,1,1]\n",
    "weight_model2 = [1,1,1,1,1,1,1,1,1,1,1]\n",
    "weight_model3 = [1,1,1,1,1,1,1,1,1,1,1]\n",
    "weight_model4 = [1,1,1,1,1,1,1,1,1,1,1]\n",
    "weight_model5 = [1,1,1,1,1,1,1,1,1,1,1]\n",
    "\n",
    "def weight_apply(item_1, item_2, item_3, item_4, item_5):\n",
    "    # print(item_1.shape)\n",
    "    for idx in range(11):\n",
    "        item_1[idx] *= weight_model1[idx]\n",
    "    for idx in range(11):\n",
    "        item_2[idx] *= weight_model2[idx]\n",
    "    for idx in range(11):\n",
    "        item_3[idx] *= weight_model3[idx]\n",
    "    for idx in range(11):\n",
    "        item_4[idx] *= weight_model4[idx]\n",
    "    for idx in range(11):\n",
    "        item_5[idx] *= weight_model5[idx]\n",
    "    \n",
    "    return item_1, item_2, item_3, item_4, item_5"
   ]
  },
  {
   "cell_type": "code",
   "execution_count": 18,
   "metadata": {},
   "outputs": [
    {
     "data": {
      "text/plain": [
       "819"
      ]
     },
     "execution_count": 19,
     "metadata": {},
     "output_type": "execute_result"
    }
   ],
   "source": [
    "output_4[0][:,:1,:1]"
   ]
  },
  {
   "cell_type": "code",
   "execution_count": 57,
   "metadata": {},
   "outputs": [],
   "source": [
    "output_to_mask = []\n",
    "\n",
    "for item in output_4:\n",
    "    new_item = item\n",
    "    output_to_mask.append(new_item.argmax(axis=0))\n",
    "\n",
    "# for item_1, item_2, item_3, item_4, item_5 in zip(output_1, output_2, output_3, output_4, output_5):\n",
    "#     # item_1, item_2, item_3, item_4, item_5 = weight_apply(item_1, item_2, item_3, item_4, item_5)\n",
    "#     new_item = item_1 + item_2 + item_3 + item_4 + item_5\n",
    "#     output_to_mask.append(new_item.argmax(axis=0))"
   ]
  },
  {
   "cell_type": "code",
   "execution_count": 13,
   "metadata": {},
   "outputs": [],
   "source": [
    "import numpy as np\n",
    "import pydensecrf.densecrf as dcrf\n",
    "# from pydensecrf.utils import unary_from_labels, create_pairwise_bilateral\n",
    "from pydensecrf.utils import unary_from_softmax, create_pairwise_bilateral\n",
    "import matplotlib.pyplot as plt\n",
    "import pandas as pd\n",
    "import cv2\n",
    "from tqdm import tqdm\n",
    "%matplotlib inline\n",
    "\n",
    "# from skimage.io import imread, imsave\n",
    "# from skimage.color import gray2rgb\n",
    "# from skimage.color import rgb2gray"
   ]
  },
  {
   "cell_type": "code",
   "execution_count": 5,
   "metadata": {},
   "outputs": [],
   "source": [
    "def decode(rle_mask):\n",
    "    mask = rle_mask.split()\n",
    "    img = np.zeros(256*256, dtype=np.uint8)\n",
    "    for i, m, in enumerate(mask):\n",
    "        img[i] = int(m)\n",
    "    return img.reshape(256,256)\n",
    "\n",
    "\n",
    "def encode(im):\n",
    "    pixels = im.flatten()\n",
    "    return ' '.join(str(x) for x in pixels)"
   ]
  },
  {
   "cell_type": "code",
   "execution_count": 31,
   "metadata": {},
   "outputs": [],
   "source": [
    "def crf(original_image, mask_img):\n",
    "    \n",
    "    labels = mask_img.flatten()\n",
    "\n",
    "    # print(len(labels))\n",
    "    n_labels = 11\n",
    "    \n",
    "    #Setting up the CRF model\n",
    "    d = dcrf.DenseCRF2D(original_image.shape[1], original_image.shape[0], n_labels)\n",
    "\n",
    "    # get unary potentials (neg log probability)\n",
    "    U = unary_from_labels(labels, n_labels, gt_prob=0.7, zero_unsure=False)\n",
    "    \n",
    "    # print(labels.shape[0])\n",
    "    # U = unary_from_softmax(sm, scale=None, clip=1e-5)\n",
    "    # unary_from_softmax(sm, scale=None, clip=1e-5):\n",
    "    \n",
    "    d.setUnaryEnergy(U)\n",
    "\n",
    "    # This adds the color-independent term, features are the locations only.\n",
    "    d.addPairwiseGaussian(sxy=(3,3), compat=10, kernel=dcrf.DIAG_KERNEL, normalization=dcrf.NORMALIZE_SYMMETRIC)\n",
    "\n",
    "    # This adds the color-dependent term, i.e. features are (x,y,r,g,b).\n",
    "    d.addPairwiseBilateral(sxy=(10,10), srgb=(70,70,70), rgbim=original_image, compat=5)\n",
    "\n",
    "    Q = d.inference(45)\n",
    "\n",
    "    # Find out the most probable class for each pixel.\n",
    "    MAP = np.argmax(Q, axis=0)\n",
    "\n",
    "    return MAP.reshape((original_image.shape[0],original_image.shape[1]))"
   ]
  },
  {
   "cell_type": "code",
   "execution_count": 54,
   "metadata": {},
   "outputs": [
    {
     "name": "stdout",
     "output_type": "stream",
     "text": [
      "(11, 512, 512)\n",
      "(512, 512)\n"
     ]
    }
   ],
   "source": [
    "print(output_4[0].shape)\n",
    "print(output_to_mask[0].shape)"
   ]
  },
  {
   "cell_type": "code",
   "execution_count": null,
   "metadata": {},
   "outputs": [
    {
     "name": "stderr",
     "output_type": "stream",
     "text": [
      "749it [50:52,  4.15s/it]"
     ]
    }
   ],
   "source": [
    "crf_output_to_mask = []\n",
    "\n",
    "for idx, mask in tqdm(enumerate(output_to_mask)):\n",
    "    image = cv2.imread(dataset[idx]['img_metas'][0].data['filename'])\n",
    "    crf_output = crf(image, mask)\n",
    "    crf_output_to_mask.append(crf_output)"
   ]
  },
  {
   "cell_type": "code",
   "execution_count": null,
   "metadata": {},
   "outputs": [],
   "source": []
  },
  {
   "cell_type": "code",
   "execution_count": null,
   "metadata": {},
   "outputs": [
    {
     "data": {
      "text/plain": [
       "(512, 512)"
      ]
     },
     "execution_count": 250,
     "metadata": {},
     "output_type": "execute_result"
    }
   ],
   "source": [
    "output_to_mask[0].shape"
   ]
  },
  {
   "cell_type": "code",
   "execution_count": null,
   "metadata": {},
   "outputs": [],
   "source": [
    "import os\n",
    "\n",
    "\n",
    "from_filelist = [\n",
    "    \"D:/tmp/1/1.txt\",\n",
    "    \"D:/tmp/1/2.txt\",\n",
    "]\n",
    "\n",
    "    "
   ]
  },
  {
   "cell_type": "code",
   "execution_count": null,
   "metadata": {},
   "outputs": [],
   "source": [
    "import os\n",
    "import cv2\n",
    "import shutil\n",
    "\n",
    "for index, predict in enumerate(output_to_mask):\n",
    "    original_image = dataset[index]['img_metas'][0].data['filename']\n",
    "    shutil.copyfile(original_image, os.path.join('/opt/ml/mmsegmentation/data/images/esb_test', f\"{index+5000:04}.jpg\"))\n",
    "    \n",
    "    file_dir = os.path.join(\"/opt/ml/mmsegmentation/data/annotations/esb_test\", f\"{index+5000:04}.png\")\n",
    "    cv2.imwrite(file_dir, predict)\n"
   ]
  },
  {
   "cell_type": "code",
   "execution_count": null,
   "metadata": {},
   "outputs": [],
   "source": [
    "# def cal_class_counts(value):\n",
    "#     classes, counts = np.unique(value, return_counts=True)\n",
    "#     for i,v in zip(classes, counts):\n",
    "#         print(i,v)\n",
    "\n",
    "# for item in output_to_mask:\n",
    "#     cal_class_counts(item)"
   ]
  },
  {
   "cell_type": "code",
   "execution_count": null,
   "metadata": {},
   "outputs": [],
   "source": [
    "class_colormap = pd.read_csv(\"/opt/ml/segmentation/baseline_code/class_dict3.csv\")"
   ]
  },
  {
   "cell_type": "code",
   "execution_count": null,
   "metadata": {},
   "outputs": [],
   "source": [
    "def create_trash_label_colormap():\n",
    "    colormap = np.zeros((11, 3), dtype=np.uint8)\n",
    "    for inex, (_, r, g, b) in enumerate(class_colormap.values):\n",
    "        colormap[inex] = [r, g, b]\n",
    "    \n",
    "    return colormap\n",
    "\n",
    "def label_to_color_image(label):\n",
    "    if label.ndim != 2:\n",
    "        raise ValueError('Expect 2-D input label')\n",
    "\n",
    "    colormap = create_trash_label_colormap()\n",
    "\n",
    "    if np.max(label) >= len(colormap):\n",
    "        raise ValueError('label value too large.')\n",
    "\n",
    "    return colormap[label]"
   ]
  },
  {
   "cell_type": "code",
   "execution_count": null,
   "metadata": {},
   "outputs": [],
   "source": [
    "# sample_submisson.csv 열기\n",
    "submission = pd.read_csv('/opt/ml/segmentation/baseline_code/submission/sample_submission.csv', index_col=None)\n",
    "json_dir = os.path.join(\"/opt/ml/segmentation/input/data/test.json\") # original json file\n",
    "with open(json_dir, \"r\", encoding=\"utf8\") as outfile:\n",
    "    datas = json.load(outfile)\n",
    "\n",
    "input_size = 512\n",
    "output_size = 256\n",
    "bin_size = input_size // output_size\n",
    "\n",
    "# PredictionString 대입\n",
    "for image_id, predict in enumerate(crf_output_to_mask):\n",
    "    image_id = datas[\"images\"][image_id]\n",
    "    file_name = image_id[\"file_name\"]\n",
    "    \n",
    "    temp_mask = []\n",
    "    predict = predict.reshape(1, 512, 512)\n",
    "    mask = predict.reshape((1, output_size, bin_size, output_size, bin_size)).max(4).max(2) # resize to 256*256\n",
    "    temp_mask.append(mask)\n",
    "    oms = np.array(temp_mask)\n",
    "    oms = oms.reshape([oms.shape[0], output_size*output_size]).astype(int)\n",
    "\n",
    "    string = oms.flatten()\n",
    "\n",
    "    submission = submission.append({\"image_id\" : file_name, \"PredictionString\" : ' '.join(str(e) for e in string.tolist())}, \n",
    "                                   ignore_index=True)\n",
    "\n",
    "# submission.csv로 저장\n",
    "submission.to_csv(os.path.join(cfg.work_dir, f'submission_ensemble_pseudo_v2_crf_fold_4.csv'), index=False)"
   ]
  },
  {
   "cell_type": "code",
   "execution_count": null,
   "metadata": {},
   "outputs": [
    {
     "data": {
      "text/plain": [
       "704"
      ]
     },
     "execution_count": 239,
     "metadata": {},
     "output_type": "execute_result"
    }
   ],
   "source": [
    "image_index * 4"
   ]
  },
  {
   "cell_type": "code",
   "execution_count": 76,
   "metadata": {},
   "outputs": [],
   "source": [
    "image_index = 0\n",
    "colnum = 8\n",
    "rownum = 4"
   ]
  },
  {
   "cell_type": "code",
   "execution_count": 128,
   "metadata": {},
   "outputs": [
    {
     "ename": "IndexError",
     "evalue": "list index out of range",
     "output_type": "error",
     "traceback": [
      "\u001b[0;31m---------------------------------------------------------------------------\u001b[0m",
      "\u001b[0;31mIndexError\u001b[0m                                Traceback (most recent call last)",
      "\u001b[0;32m/tmp/ipykernel_12718/4194759813.py\u001b[0m in \u001b[0;36m<module>\u001b[0;34m\u001b[0m\n\u001b[1;32m     17\u001b[0m \u001b[0;32mfor\u001b[0m \u001b[0msequence\u001b[0m \u001b[0;32min\u001b[0m \u001b[0mrange\u001b[0m\u001b[0;34m(\u001b[0m\u001b[0mrownum\u001b[0m\u001b[0;34m)\u001b[0m\u001b[0;34m:\u001b[0m\u001b[0;34m\u001b[0m\u001b[0;34m\u001b[0m\u001b[0m\n\u001b[1;32m     18\u001b[0m     \u001b[0mCur_Index\u001b[0m \u001b[0;34m=\u001b[0m \u001b[0mimage_index\u001b[0m \u001b[0;34m*\u001b[0m \u001b[0mrownum\u001b[0m \u001b[0;34m+\u001b[0m \u001b[0msequence\u001b[0m\u001b[0;34m\u001b[0m\u001b[0;34m\u001b[0m\u001b[0m\n\u001b[0;32m---> 19\u001b[0;31m     \u001b[0moriginal_image\u001b[0m \u001b[0;34m=\u001b[0m \u001b[0mdataset\u001b[0m\u001b[0;34m[\u001b[0m\u001b[0mCur_Index\u001b[0m\u001b[0;34m]\u001b[0m\u001b[0;34m[\u001b[0m\u001b[0;34m'img_metas'\u001b[0m\u001b[0;34m]\u001b[0m\u001b[0;34m[\u001b[0m\u001b[0;36m0\u001b[0m\u001b[0;34m]\u001b[0m\u001b[0;34m.\u001b[0m\u001b[0mdata\u001b[0m\u001b[0;34m[\u001b[0m\u001b[0;34m'filename'\u001b[0m\u001b[0;34m]\u001b[0m\u001b[0;34m\u001b[0m\u001b[0;34m\u001b[0m\u001b[0m\n\u001b[0m\u001b[1;32m     20\u001b[0m     \u001b[0moriginal_image\u001b[0m \u001b[0;34m=\u001b[0m \u001b[0mimg\u001b[0m\u001b[0;34m.\u001b[0m\u001b[0mimread\u001b[0m\u001b[0;34m(\u001b[0m\u001b[0moriginal_image\u001b[0m\u001b[0;34m)\u001b[0m\u001b[0;34m\u001b[0m\u001b[0;34m\u001b[0m\u001b[0m\n\u001b[1;32m     21\u001b[0m     \u001b[0mground_truth\u001b[0m \u001b[0;34m=\u001b[0m \u001b[0mImage\u001b[0m\u001b[0;34m.\u001b[0m\u001b[0mopen\u001b[0m\u001b[0;34m(\u001b[0m\u001b[0mos\u001b[0m\u001b[0;34m.\u001b[0m\u001b[0mpath\u001b[0m\u001b[0;34m.\u001b[0m\u001b[0mjoin\u001b[0m\u001b[0;34m(\u001b[0m\u001b[0;34m'/opt/ml/mmsegmentation/data/annotations/esb_test'\u001b[0m\u001b[0;34m,\u001b[0m \u001b[0;34mf\"{Cur_Index+4000:04}.png\"\u001b[0m\u001b[0;34m)\u001b[0m\u001b[0;34m)\u001b[0m\u001b[0;34m\u001b[0m\u001b[0;34m\u001b[0m\u001b[0m\n",
      "\u001b[0;32m~/mmsegmentation/mmseg/datasets/custom.py\u001b[0m in \u001b[0;36m__getitem__\u001b[0;34m(self, idx)\u001b[0m\n\u001b[1;32m    199\u001b[0m \u001b[0;34m\u001b[0m\u001b[0m\n\u001b[1;32m    200\u001b[0m         \u001b[0;32mif\u001b[0m \u001b[0mself\u001b[0m\u001b[0;34m.\u001b[0m\u001b[0mtest_mode\u001b[0m\u001b[0;34m:\u001b[0m\u001b[0;34m\u001b[0m\u001b[0;34m\u001b[0m\u001b[0m\n\u001b[0;32m--> 201\u001b[0;31m             \u001b[0;32mreturn\u001b[0m \u001b[0mself\u001b[0m\u001b[0;34m.\u001b[0m\u001b[0mprepare_test_img\u001b[0m\u001b[0;34m(\u001b[0m\u001b[0midx\u001b[0m\u001b[0;34m)\u001b[0m\u001b[0;34m\u001b[0m\u001b[0;34m\u001b[0m\u001b[0m\n\u001b[0m\u001b[1;32m    202\u001b[0m         \u001b[0;32melse\u001b[0m\u001b[0;34m:\u001b[0m\u001b[0;34m\u001b[0m\u001b[0;34m\u001b[0m\u001b[0m\n\u001b[1;32m    203\u001b[0m             \u001b[0;32mreturn\u001b[0m \u001b[0mself\u001b[0m\u001b[0;34m.\u001b[0m\u001b[0mprepare_train_img\u001b[0m\u001b[0;34m(\u001b[0m\u001b[0midx\u001b[0m\u001b[0;34m)\u001b[0m\u001b[0;34m\u001b[0m\u001b[0;34m\u001b[0m\u001b[0m\n",
      "\u001b[0;32m~/mmsegmentation/mmseg/datasets/custom.py\u001b[0m in \u001b[0;36mprepare_test_img\u001b[0;34m(self, idx)\u001b[0m\n\u001b[1;32m    231\u001b[0m         \"\"\"\n\u001b[1;32m    232\u001b[0m \u001b[0;34m\u001b[0m\u001b[0m\n\u001b[0;32m--> 233\u001b[0;31m         \u001b[0mimg_info\u001b[0m \u001b[0;34m=\u001b[0m \u001b[0mself\u001b[0m\u001b[0;34m.\u001b[0m\u001b[0mimg_infos\u001b[0m\u001b[0;34m[\u001b[0m\u001b[0midx\u001b[0m\u001b[0;34m]\u001b[0m\u001b[0;34m\u001b[0m\u001b[0;34m\u001b[0m\u001b[0m\n\u001b[0m\u001b[1;32m    234\u001b[0m         \u001b[0mresults\u001b[0m \u001b[0;34m=\u001b[0m \u001b[0mdict\u001b[0m\u001b[0;34m(\u001b[0m\u001b[0mimg_info\u001b[0m\u001b[0;34m=\u001b[0m\u001b[0mimg_info\u001b[0m\u001b[0;34m)\u001b[0m\u001b[0;34m\u001b[0m\u001b[0;34m\u001b[0m\u001b[0m\n\u001b[1;32m    235\u001b[0m         \u001b[0mself\u001b[0m\u001b[0;34m.\u001b[0m\u001b[0mpre_pipeline\u001b[0m\u001b[0;34m(\u001b[0m\u001b[0mresults\u001b[0m\u001b[0;34m)\u001b[0m\u001b[0;34m\u001b[0m\u001b[0;34m\u001b[0m\u001b[0m\n",
      "\u001b[0;31mIndexError\u001b[0m: list index out of range"
     ]
    },
    {
     "data": {
      "image/png": "[encoded data removed]",
      "text/plain": [
       "<Figure size 1440x864 with 32 Axes>"
      ]
     },
     "metadata": {
      "needs_background": "light"
     },
     "output_type": "display_data"
    }
   ],
   "source": [
    "from matplotlib.patches import Patch\n",
    "from PIL import Image\n",
    "import matplotlib.pyplot as plt\n",
    "import matplotlib.image as img\n",
    "import webcolors\n",
    "import cv2\n",
    "\n",
    "category_and_rgb = [[category, (r,g,b)] for idx, (category, r, g, b) in enumerate(class_colormap.values)]\n",
    "legend_elements = [Patch(facecolor=webcolors.rgb_to_hex(rgb), \n",
    "                        edgecolor=webcolors.rgb_to_hex(rgb), \n",
    "                        label=category) for category, rgb in category_and_rgb]\n",
    "\n",
    "fig, ax = plt.subplots(nrows=rownum, ncols=colnum, figsize=(20, 12))\n",
    "\n",
    "predict_mask_array = []\n",
    "\n",
    "for sequence in range(rownum):\n",
    "    Cur_Index = image_index * rownum + sequence\n",
    "    original_image = dataset[Cur_Index]['img_metas'][0].data['filename']\n",
    "    original_image = img.imread(original_image)\n",
    "    ground_truth = Image.open(os.path.join('/opt/ml/mmsegmentation/data/annotations/esb_test', f\"{Cur_Index+4000:04}.png\"))\n",
    "    ground_truth = np.array(ground_truth)\n",
    "    predict_mask_array.append(original_image)\n",
    "    predict_mask_array.append(label_to_color_image(ground_truth))\n",
    "    predict_mask_array.append(label_to_color_image(output_to_mask[Cur_Index]))\n",
    "    predict_mask_array.append(label_to_color_image(output_1[Cur_Index].argmax(axis=0)))\n",
    "    predict_mask_array.append(label_to_color_image(output_2[Cur_Index].argmax(axis=0)))\n",
    "    predict_mask_array.append(label_to_color_image(output_3[Cur_Index].argmax(axis=0)))\n",
    "    predict_mask_array.append(label_to_color_image(output_4[Cur_Index].argmax(axis=0)))\n",
    "    predict_mask_array.append(label_to_color_image(output_5[Cur_Index].argmax(axis=0)))\n",
    "    image_index += 1\n",
    "\n",
    "for row in range(rownum):\n",
    "    for col in range(colnum):\n",
    "        if col % colnum == 0:\n",
    "            ax[row][col].set_title(f'Original Image')\n",
    "            ax[row][col].imshow(predict_mask_array[row * colnum + col])\n",
    "        elif col % colnum == 1:\n",
    "            ax[row][col].set_title(f'Pseudo Image')\n",
    "            ax[row][col].imshow(predict_mask_array[row * colnum + col])\n",
    "        elif col % colnum == 2:\n",
    "            ax[row][col].set_title(f'ensemble output')\n",
    "            ax[row][col].imshow(predict_mask_array[row * colnum + col])\n",
    "        else:    \n",
    "            ax[row][col].set_title(f'output{col-2} mask')\n",
    "            ax[row][col].imshow(predict_mask_array[row * colnum + col])\n",
    "            if col == colnum-1:\n",
    "                ax[row][col].legend(handles=legend_elements, bbox_to_anchor=(1.05, 1), loc=2, borderaxespad=0)\n",
    "\n",
    "plt.show()"
   ]
  }
 ],
 "metadata": {
  "interpreter": {
   "hash": "c31e71a5e498f0aaae29fa2d4fcce91b7642bc45d7bb4c98f573abb4911baaab"
  },
  "kernelspec": {
   "display_name": "crf",
   "language": "python",
   "name": "crf"
  },
  "language_info": {
   "codemirror_mode": {
    "name": "ipython",
    "version": 3
   },
   "file_extension": ".py",
   "mimetype": "text/x-python",
   "name": "python",
   "nbconvert_exporter": "python",
   "pygments_lexer": "ipython3",
   "version": "3.6.9"
  }
 },
 "nbformat": 4,
 "nbformat_minor": 4
}
