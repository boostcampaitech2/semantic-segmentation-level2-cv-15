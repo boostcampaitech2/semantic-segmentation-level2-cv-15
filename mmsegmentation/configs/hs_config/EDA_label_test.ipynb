{
 "cells": [
  {
   "cell_type": "code",
   "execution_count": 14,
   "metadata": {},
   "outputs": [],
   "source": [
    "import cv2\n",
    "import numpy as np\n",
    "import pandas as pd\n",
    "import matplotlib.pyplot as plt\n",
    "import os"
   ]
  },
  {
   "cell_type": "code",
   "execution_count": 15,
   "metadata": {},
   "outputs": [],
   "source": [
    "root_dir = \"/opt/ml/segmentation/mmsegmentation/data/annotations/training\"\n",
    "image_id = \"0000.png\" # labeling 되어 있는 이미지 이용\n",
    "image_path = os.path.join(root_dir, image_id)"
   ]
  },
  {
   "cell_type": "code",
   "execution_count": 16,
   "metadata": {},
   "outputs": [
    {
     "name": "stdout",
     "output_type": "stream",
     "text": [
      "label percent : 33.40%\n",
      "correct\n"
     ]
    }
   ],
   "source": [
    "origin_img = cv2.imread(image_path)\n",
    "origin_img = cv2.split(origin_img)\n",
    "total = int(origin_img[0].size) # 3채널이기 때문에 하나의 채널만을 이용\n",
    "\n",
    "back_g = np.count_nonzero(origin_img[0] == 0) # background 개수\n",
    "label = np.count_nonzero(origin_img[0] != 0) # label의 개수\n",
    "\n",
    "label_percent = label / total * 100 # label의 비율\n",
    "print(f\"label percent :{label_percent: .2f}%\")\n",
    "\n",
    "if total == back_g + label: # total 개수가 맞는지 확인\n",
    "    print(\"correct\")"
   ]
  }
 ],
 "metadata": {
  "interpreter": {
   "hash": "5d0c2b1480244832d7dbf237984b0f05a268e3e22e4477542a885f8374c01bd9"
  },
  "kernelspec": {
   "display_name": "Python 3.7.11 64-bit ('open-mmlab': conda)",
   "name": "python3"
  },
  "language_info": {
   "codemirror_mode": {
    "name": "ipython",
    "version": 3
   },
   "file_extension": ".py",
   "mimetype": "text/x-python",
   "name": "python",
   "nbconvert_exporter": "python",
   "pygments_lexer": "ipython3",
   "version": "3.7.11"
  },
  "orig_nbformat": 4
 },
 "nbformat": 4,
 "nbformat_minor": 2
}
