{
 "cells": [
  {
   "cell_type": "code",
   "execution_count": 1,
   "metadata": {},
   "outputs": [
    {
     "name": "stdout",
     "output_type": "stream",
     "text": [
      "Reading package lists... Done\n",
      "Building dependency tree       \n",
      "Reading state information... Done\n",
      "curl is already the newest version (7.58.0-2ubuntu3.16).\n",
      "0 upgraded, 0 newly installed, 0 to remove and 27 not upgraded.\n",
      "  % Total    % Received % Xferd  Average Speed   Time    Time     Time  Current\n",
      "                                 Dload  Upload   Total   Spent    Left  Speed\n",
      "100 2108k  100 2108k    0     0  42.9M      0 --:--:-- --:--:-- --:--:-- 42.9M\n",
      "Collecting pip\n",
      "  Using cached pip-21.3.1-py3-none-any.whl (1.7 MB)\n",
      "Installing collected packages: pip\n",
      "  Attempting uninstall: pip\n",
      "    Found existing installation: pip 21.3.1\n",
      "    Uninstalling pip-21.3.1:\n",
      "      Successfully uninstalled pip-21.3.1\n",
      "Successfully installed pip-21.3.1\n",
      "\u001b[33mWARNING: Running pip as the 'root' user can result in broken permissions and conflicting behaviour with the system package manager. It is recommended to use a virtual environment instead: https://pip.pypa.io/warnings/venv\u001b[0m\n",
      "Requirement already satisfied: pip in /opt/conda/envs/segmentation/lib/python3.7/site-packages (21.3.1)\n",
      "\u001b[33mWARNING: Running pip as the 'root' user can result in broken permissions and conflicting behaviour with the system package manager. It is recommended to use a virtual environment instead: https://pip.pypa.io/warnings/venv\u001b[0m\n",
      "Collecting package metadata (current_repodata.json): done\n",
      "Solving environment: done\n",
      "\n",
      "# All requested packages already installed.\n",
      "\n",
      "Requirement already satisfied: ipykernel in /opt/conda/envs/segmentation/lib/python3.7/site-packages (6.4.1)\n",
      "Requirement already satisfied: matplotlib-inline<0.2.0,>=0.1.0 in /opt/conda/envs/segmentation/lib/python3.7/site-packages (from ipykernel) (0.1.3)\n",
      "Requirement already satisfied: argcomplete>=1.12.3 in /opt/conda/envs/segmentation/lib/python3.7/site-packages (from ipykernel) (1.12.3)\n",
      "Requirement already satisfied: ipython-genutils in /opt/conda/envs/segmentation/lib/python3.7/site-packages (from ipykernel) (0.2.0)\n",
      "Requirement already satisfied: importlib-metadata<5 in /opt/conda/envs/segmentation/lib/python3.7/site-packages (from ipykernel) (4.8.1)\n",
      "Requirement already satisfied: tornado<7.0,>=4.2 in /opt/conda/envs/segmentation/lib/python3.7/site-packages (from ipykernel) (6.1)\n",
      "Requirement already satisfied: debugpy<2.0,>=1.0.0 in /opt/conda/envs/segmentation/lib/python3.7/site-packages (from ipykernel) (1.5.0)\n",
      "Requirement already satisfied: jupyter-client<8.0 in /opt/conda/envs/segmentation/lib/python3.7/site-packages (from ipykernel) (7.0.6)\n",
      "Requirement already satisfied: traitlets<6.0,>=4.1.0 in /opt/conda/envs/segmentation/lib/python3.7/site-packages (from ipykernel) (5.1.0)\n",
      "Requirement already satisfied: ipython<8.0,>=7.23.1 in /opt/conda/envs/segmentation/lib/python3.7/site-packages (from ipykernel) (7.28.0)\n",
      "Requirement already satisfied: typing-extensions>=3.6.4 in /opt/conda/envs/segmentation/lib/python3.7/site-packages (from importlib-metadata<5->ipykernel) (3.10.0.2)\n",
      "Requirement already satisfied: zipp>=0.5 in /opt/conda/envs/segmentation/lib/python3.7/site-packages (from importlib-metadata<5->ipykernel) (3.6.0)\n",
      "Requirement already satisfied: prompt-toolkit!=3.0.0,!=3.0.1,<3.1.0,>=2.0.0 in /opt/conda/envs/segmentation/lib/python3.7/site-packages (from ipython<8.0,>=7.23.1->ipykernel) (3.0.20)\n",
      "Requirement already satisfied: setuptools>=18.5 in /opt/conda/envs/segmentation/lib/python3.7/site-packages (from ipython<8.0,>=7.23.1->ipykernel) (58.0.4)\n",
      "Requirement already satisfied: decorator in /opt/conda/envs/segmentation/lib/python3.7/site-packages (from ipython<8.0,>=7.23.1->ipykernel) (5.1.0)\n",
      "Requirement already satisfied: backcall in /opt/conda/envs/segmentation/lib/python3.7/site-packages (from ipython<8.0,>=7.23.1->ipykernel) (0.2.0)\n",
      "Requirement already satisfied: pexpect>4.3 in /opt/conda/envs/segmentation/lib/python3.7/site-packages (from ipython<8.0,>=7.23.1->ipykernel) (4.8.0)\n",
      "Requirement already satisfied: pygments in /opt/conda/envs/segmentation/lib/python3.7/site-packages (from ipython<8.0,>=7.23.1->ipykernel) (2.10.0)\n",
      "Requirement already satisfied: jedi>=0.16 in /opt/conda/envs/segmentation/lib/python3.7/site-packages (from ipython<8.0,>=7.23.1->ipykernel) (0.18.0)\n",
      "Requirement already satisfied: pickleshare in /opt/conda/envs/segmentation/lib/python3.7/site-packages (from ipython<8.0,>=7.23.1->ipykernel) (0.7.5)\n",
      "Requirement already satisfied: entrypoints in /opt/conda/envs/segmentation/lib/python3.7/site-packages (from jupyter-client<8.0->ipykernel) (0.3)\n",
      "Requirement already satisfied: pyzmq>=13 in /opt/conda/envs/segmentation/lib/python3.7/site-packages (from jupyter-client<8.0->ipykernel) (22.3.0)\n",
      "Requirement already satisfied: nest-asyncio>=1.5 in /opt/conda/envs/segmentation/lib/python3.7/site-packages (from jupyter-client<8.0->ipykernel) (1.5.1)\n",
      "Requirement already satisfied: python-dateutil>=2.1 in /opt/conda/envs/segmentation/lib/python3.7/site-packages (from jupyter-client<8.0->ipykernel) (2.8.2)\n",
      "Requirement already satisfied: jupyter-core>=4.6.0 in /opt/conda/envs/segmentation/lib/python3.7/site-packages (from jupyter-client<8.0->ipykernel) (4.8.1)\n",
      "Requirement already satisfied: parso<0.9.0,>=0.8.0 in /opt/conda/envs/segmentation/lib/python3.7/site-packages (from jedi>=0.16->ipython<8.0,>=7.23.1->ipykernel) (0.8.2)\n",
      "Requirement already satisfied: ptyprocess>=0.5 in /opt/conda/envs/segmentation/lib/python3.7/site-packages (from pexpect>4.3->ipython<8.0,>=7.23.1->ipykernel) (0.7.0)\n",
      "Requirement already satisfied: wcwidth in /opt/conda/envs/segmentation/lib/python3.7/site-packages (from prompt-toolkit!=3.0.0,!=3.0.1,<3.1.0,>=2.0.0->ipython<8.0,>=7.23.1->ipykernel) (0.2.5)\n",
      "Requirement already satisfied: six>=1.5 in /opt/conda/envs/segmentation/lib/python3.7/site-packages (from python-dateutil>=2.1->jupyter-client<8.0->ipykernel) (1.16.0)\n",
      "\u001b[33mWARNING: Running pip as the 'root' user can result in broken permissions and conflicting behaviour with the system package manager. It is recommended to use a virtual environment instead: https://pip.pypa.io/warnings/venv\u001b[0m\n",
      "virtual environment is already exist\n",
      "\n",
      "Remove all packages in environment /opt/conda/envs/mmseg:\n",
      "\n",
      "\n",
      "## Package Plan ##\n",
      "\n",
      "  environment location: /opt/conda/envs/mmseg\n",
      "\n",
      "\n",
      "The following packages will be REMOVED:\n",
      "\n",
      "  _libgcc_mutex-0.1-main\n",
      "  _openmp_mutex-4.5-1_gnu\n",
      "  ca-certificates-2021.9.30-h06a4308_1\n",
      "  certifi-2021.10.8-py37h06a4308_0\n",
      "  ld_impl_linux-64-2.35.1-h7274673_9\n",
      "  libffi-3.3-he6710b0_2\n",
      "  libgcc-ng-9.3.0-h5101ec6_17\n",
      "  libgomp-9.3.0-h5101ec6_17\n",
      "  libstdcxx-ng-9.3.0-hd4cf53a_17\n",
      "  ncurses-6.2-he6710b0_1\n",
      "  openssl-1.1.1l-h7f8727e_0\n",
      "  pip-21.0.1-py37h06a4308_0\n",
      "  python-3.7.11-h12debd9_0\n",
      "  readline-8.1-h27cfd23_0\n",
      "  setuptools-58.0.4-py37h06a4308_0\n",
      "  sqlite-3.36.0-hc218d9a_0\n",
      "  tk-8.6.11-h1ccaba5_0\n",
      "  wheel-0.37.0-pyhd3eb1b0_1\n",
      "  xz-5.2.5-h7b6447c_0\n",
      "  zlib-1.2.11-h7b6447c_3\n",
      "\n",
      "\n",
      "Preparing transaction: done\n",
      "Verifying transaction: done\n",
      "Executing transaction: done\n",
      "removed virtual environment\n",
      "Collecting package metadata (current_repodata.json): done\n",
      "Solving environment: done\n",
      "\n",
      "## Package Plan ##\n",
      "\n",
      "  environment location: /opt/conda/envs/mmseg\n",
      "\n",
      "  added / updated specs:\n",
      "    - python=3.7\n",
      "\n",
      "\n",
      "The following NEW packages will be INSTALLED:\n",
      "\n",
      "  _libgcc_mutex      pkgs/main/linux-64::_libgcc_mutex-0.1-main\n",
      "  _openmp_mutex      pkgs/main/linux-64::_openmp_mutex-4.5-1_gnu\n",
      "  ca-certificates    pkgs/main/linux-64::ca-certificates-2021.9.30-h06a4308_1\n",
      "  certifi            pkgs/main/linux-64::certifi-2021.10.8-py37h06a4308_0\n",
      "  ld_impl_linux-64   pkgs/main/linux-64::ld_impl_linux-64-2.35.1-h7274673_9\n",
      "  libffi             pkgs/main/linux-64::libffi-3.3-he6710b0_2\n",
      "  libgcc-ng          pkgs/main/linux-64::libgcc-ng-9.3.0-h5101ec6_17\n",
      "  libgomp            pkgs/main/linux-64::libgomp-9.3.0-h5101ec6_17\n",
      "  libstdcxx-ng       pkgs/main/linux-64::libstdcxx-ng-9.3.0-hd4cf53a_17\n",
      "  ncurses            pkgs/main/linux-64::ncurses-6.2-he6710b0_1\n",
      "  openssl            pkgs/main/linux-64::openssl-1.1.1l-h7f8727e_0\n",
      "  pip                pkgs/main/linux-64::pip-21.0.1-py37h06a4308_0\n",
      "  python             pkgs/main/linux-64::python-3.7.11-h12debd9_0\n",
      "  readline           pkgs/main/linux-64::readline-8.1-h27cfd23_0\n",
      "  setuptools         pkgs/main/linux-64::setuptools-58.0.4-py37h06a4308_0\n",
      "  sqlite             pkgs/main/linux-64::sqlite-3.36.0-hc218d9a_0\n",
      "  tk                 pkgs/main/linux-64::tk-8.6.11-h1ccaba5_0\n",
      "  wheel              pkgs/main/noarch::wheel-0.37.0-pyhd3eb1b0_1\n",
      "  xz                 pkgs/main/linux-64::xz-5.2.5-h7b6447c_0\n",
      "  zlib               pkgs/main/linux-64::zlib-1.2.11-h7b6447c_3\n",
      "\n",
      "\n",
      "Preparing transaction: done\n",
      "Verifying transaction: done\n",
      "Executing transaction: done\n",
      "#\n",
      "# To activate this environment, use\n",
      "#\n",
      "#     $ conda activate mmseg\n",
      "#\n",
      "# To deactivate an active environment, use\n",
      "#\n",
      "#     $ conda deactivate\n",
      "\n",
      "# conda environments:\n",
      "#\n",
      "base                     /opt/conda\n",
      "mmseg                    /opt/conda/envs/mmseg\n",
      "segmentation          *  /opt/conda/envs/segmentation\n",
      "\n",
      "'mmseg' kernel is exists.\n",
      "[RemoveKernelSpec] WARNING | Config option `kernel_spec_manager_class` not recognized by `RemoveKernelSpec`.\n",
      "[RemoveKernelSpec] Removed /opt/ml/.local/share/jupyter/kernels/mmseg\n",
      "removed kernel\n",
      "Installed kernelspec mmseg in /opt/ml/.local/share/jupyter/kernels/mmseg\n",
      "[ListKernelSpecs] WARNING | Config option `kernel_spec_manager_class` not recognized by `ListKernelSpecs`.\n",
      "Available kernels:\n",
      "  mmseg           /opt/ml/.local/share/jupyter/kernels/mmseg\n",
      "  segmentation    /opt/ml/.local/share/jupyter/kernels/segmentation\n",
      "  python3         /opt/conda/envs/segmentation/share/jupyter/kernels/python3\n",
      "Done.\n"
     ]
    }
   ],
   "source": [
    "!apt-get install curl -y\n",
    "!curl 'https://bootstrap.pypa.io/get-pip.py' -o get-pip.py\n",
    "!python get-pip.py\n",
    "!pip install --upgrade pip\n",
    "!conda install nb_conda_kernels -y\n",
    "!pip install ipykernel\n",
    "\n",
    "virtual_environment = !conda info --envs | grep mmseg\n",
    "\n",
    "if len(virtual_environment) != 0:\n",
    "    print(\"virtual environment is already exist\")\n",
    "    !conda remove -n mmseg --all --yes\n",
    "    print(\"removed virtual environment\")\n",
    "    \n",
    "!conda create -n mmseg python=3.7 -y\n",
    "!conda info --envs\n",
    "\n",
    "kernels = !jupyter kernelspec list\n",
    "\n",
    "for line in list(kernels):\n",
    "    if \"mmseg\" in line:\n",
    "        print(f\"'mmseg' kernel is exists.\")\n",
    "        !jupyter kernelspec remove mmseg -y\n",
    "        print(\"removed kernel\")\n",
    "        \n",
    "!python -m ipykernel install --user --name mmseg --display-name \"mmseg\"\n",
    "!jupyter kernelspec list\n",
    "\n",
    "print(\"Done.\")"
   ]
  },
  {
   "cell_type": "markdown",
   "metadata": {},
   "source": [
    "# You must change kernel to mmseg!! [Python 3 (ipykernel) → mmseg]"
   ]
  },
  {
   "cell_type": "code",
   "execution_count": 2,
   "metadata": {},
   "outputs": [],
   "source": [
    "import os\n",
    "\n",
    "# mmseg_path = '/opt/ml/mmsegmentation'\n",
    "mmseg_path = '/opt/ml/mmsegTest'\n",
    "\n",
    "if os.path.isdir(mmseg_path):\n",
    "    print(f\"Directory is already exist.({mmseg_path})\")\n",
    "    !rm -r {mmseg_path}\n",
    "    print(\"removed directory\")"
   ]
  },
  {
   "cell_type": "code",
   "execution_count": 3,
   "metadata": {},
   "outputs": [
    {
     "name": "stdout",
     "output_type": "stream",
     "text": [
      "Cloning into '/opt/ml/mmsegTest'...\n",
      "remote: Enumerating objects: 4645, done.\u001b[K\n",
      "remote: Counting objects: 100% (1383/1383), done.\u001b[K\n",
      "remote: Compressing objects: 100% (774/774), done.\u001b[K\n",
      "remote: Total 4645 (delta 787), reused 924 (delta 602), pack-reused 3262\u001b[K\n",
      "Receiving objects: 100% (4645/4645), 6.34 MiB | 21.94 MiB/s, done.\n",
      "Resolving deltas: 100% (3172/3172), done.\n"
     ]
    }
   ],
   "source": [
    "!git clone https://github.com/open-mmlab/mmsegmentation.git {mmseg_path}"
   ]
  },
  {
   "cell_type": "code",
   "execution_count": 4,
   "metadata": {},
   "outputs": [
    {
     "name": "stdout",
     "output_type": "stream",
     "text": [
      "/opt/ml/mmsegTest\n",
      "/opt/ml/mmsegTest\n"
     ]
    }
   ],
   "source": [
    "%cd {mmseg_path}\n",
    "!pwd"
   ]
  },
  {
   "cell_type": "code",
   "execution_count": 5,
   "metadata": {},
   "outputs": [
    {
     "name": "stdout",
     "output_type": "stream",
     "text": [
      "Collecting package metadata (current_repodata.json): done\n",
      "Solving environment: done\n",
      "\n",
      "# All requested packages already installed.\n",
      "\n",
      "Looking in links: https://download.openmmlab.com/mmcv/dist/cu101/torch1.6.0/index.html\n",
      "Requirement already satisfied: mmcv-full in /opt/conda/envs/segmentation/lib/python3.7/site-packages (1.3.15)\n",
      "Requirement already satisfied: yapf in /opt/conda/envs/segmentation/lib/python3.7/site-packages (from mmcv-full) (0.31.0)\n",
      "Requirement already satisfied: packaging in /opt/conda/envs/segmentation/lib/python3.7/site-packages (from mmcv-full) (21.0)\n",
      "Requirement already satisfied: opencv-python>=3 in /opt/conda/envs/segmentation/lib/python3.7/site-packages (from mmcv-full) (4.2.0.34)\n",
      "Requirement already satisfied: addict in /opt/conda/envs/segmentation/lib/python3.7/site-packages (from mmcv-full) (2.4.0)\n",
      "Requirement already satisfied: Pillow in /opt/conda/envs/segmentation/lib/python3.7/site-packages (from mmcv-full) (8.4.0)\n",
      "Requirement already satisfied: numpy in /opt/conda/envs/segmentation/lib/python3.7/site-packages (from mmcv-full) (1.21.2)\n",
      "Requirement already satisfied: pyyaml in /opt/conda/envs/segmentation/lib/python3.7/site-packages (from mmcv-full) (5.4.1)\n",
      "Requirement already satisfied: pyparsing>=2.0.2 in /opt/conda/envs/segmentation/lib/python3.7/site-packages (from packaging->mmcv-full) (2.4.7)\n",
      "\u001b[33mWARNING: Running pip as the 'root' user can result in broken permissions and conflicting behaviour with the system package manager. It is recommended to use a virtual environment instead: https://pip.pypa.io/warnings/venv\u001b[0m\n",
      "Requirement already satisfied: mmcv in /opt/conda/envs/segmentation/lib/python3.7/site-packages (1.3.15)\n",
      "Requirement already satisfied: addict in /opt/conda/envs/segmentation/lib/python3.7/site-packages (from mmcv) (2.4.0)\n",
      "Requirement already satisfied: packaging in /opt/conda/envs/segmentation/lib/python3.7/site-packages (from mmcv) (21.0)\n",
      "Requirement already satisfied: yapf in /opt/conda/envs/segmentation/lib/python3.7/site-packages (from mmcv) (0.31.0)\n",
      "Requirement already satisfied: opencv-python>=3 in /opt/conda/envs/segmentation/lib/python3.7/site-packages (from mmcv) (4.2.0.34)\n",
      "Requirement already satisfied: pyyaml in /opt/conda/envs/segmentation/lib/python3.7/site-packages (from mmcv) (5.4.1)\n",
      "Requirement already satisfied: Pillow in /opt/conda/envs/segmentation/lib/python3.7/site-packages (from mmcv) (8.4.0)\n",
      "Requirement already satisfied: numpy in /opt/conda/envs/segmentation/lib/python3.7/site-packages (from mmcv) (1.21.2)\n",
      "Requirement already satisfied: pyparsing>=2.0.2 in /opt/conda/envs/segmentation/lib/python3.7/site-packages (from packaging->mmcv) (2.4.7)\n",
      "\u001b[33mWARNING: Running pip as the 'root' user can result in broken permissions and conflicting behaviour with the system package manager. It is recommended to use a virtual environment instead: https://pip.pypa.io/warnings/venv\u001b[0m\n",
      "Collecting mmsegmentation\n",
      "  Using cached mmsegmentation-0.18.0-py3-none-any.whl (623 kB)\n",
      "Requirement already satisfied: prettytable in /opt/conda/envs/segmentation/lib/python3.7/site-packages (from mmsegmentation) (2.2.1)\n",
      "Requirement already satisfied: numpy in /opt/conda/envs/segmentation/lib/python3.7/site-packages (from mmsegmentation) (1.21.2)\n",
      "Requirement already satisfied: matplotlib in /opt/conda/envs/segmentation/lib/python3.7/site-packages (from mmsegmentation) (3.4.3)\n",
      "Requirement already satisfied: packaging in /opt/conda/envs/segmentation/lib/python3.7/site-packages (from mmsegmentation) (21.0)\n",
      "Requirement already satisfied: kiwisolver>=1.0.1 in /opt/conda/envs/segmentation/lib/python3.7/site-packages (from matplotlib->mmsegmentation) (1.3.2)\n",
      "Requirement already satisfied: cycler>=0.10 in /opt/conda/envs/segmentation/lib/python3.7/site-packages (from matplotlib->mmsegmentation) (0.10.0)\n",
      "Requirement already satisfied: pillow>=6.2.0 in /opt/conda/envs/segmentation/lib/python3.7/site-packages (from matplotlib->mmsegmentation) (8.4.0)\n",
      "Requirement already satisfied: pyparsing>=2.2.1 in /opt/conda/envs/segmentation/lib/python3.7/site-packages (from matplotlib->mmsegmentation) (2.4.7)\n",
      "Requirement already satisfied: python-dateutil>=2.7 in /opt/conda/envs/segmentation/lib/python3.7/site-packages (from matplotlib->mmsegmentation) (2.8.2)\n",
      "Requirement already satisfied: wcwidth in /opt/conda/envs/segmentation/lib/python3.7/site-packages (from prettytable->mmsegmentation) (0.2.5)\n",
      "Requirement already satisfied: importlib-metadata in /opt/conda/envs/segmentation/lib/python3.7/site-packages (from prettytable->mmsegmentation) (4.8.1)\n",
      "Requirement already satisfied: six in /opt/conda/envs/segmentation/lib/python3.7/site-packages (from cycler>=0.10->matplotlib->mmsegmentation) (1.16.0)\n",
      "Requirement already satisfied: typing-extensions>=3.6.4 in /opt/conda/envs/segmentation/lib/python3.7/site-packages (from importlib-metadata->prettytable->mmsegmentation) (3.10.0.2)\n",
      "Requirement already satisfied: zipp>=0.5 in /opt/conda/envs/segmentation/lib/python3.7/site-packages (from importlib-metadata->prettytable->mmsegmentation) (3.6.0)\n",
      "Installing collected packages: mmsegmentation\n",
      "Successfully installed mmsegmentation-0.18.0\n",
      "\u001b[33mWARNING: Running pip as the 'root' user can result in broken permissions and conflicting behaviour with the system package manager. It is recommended to use a virtual environment instead: https://pip.pypa.io/warnings/venv\u001b[0m\n",
      "Obtaining file:///opt/ml/mmsegTest\n",
      "  Preparing metadata (setup.py) ... \u001b[?25ldone\n",
      "\u001b[?25hRequirement already satisfied: matplotlib in /opt/conda/envs/segmentation/lib/python3.7/site-packages (from mmsegmentation==0.18.0) (3.4.3)\n",
      "Requirement already satisfied: numpy in /opt/conda/envs/segmentation/lib/python3.7/site-packages (from mmsegmentation==0.18.0) (1.21.2)\n",
      "Requirement already satisfied: packaging in /opt/conda/envs/segmentation/lib/python3.7/site-packages (from mmsegmentation==0.18.0) (21.0)\n",
      "Requirement already satisfied: prettytable in /opt/conda/envs/segmentation/lib/python3.7/site-packages (from mmsegmentation==0.18.0) (2.2.1)\n",
      "Requirement already satisfied: pyparsing>=2.2.1 in /opt/conda/envs/segmentation/lib/python3.7/site-packages (from matplotlib->mmsegmentation==0.18.0) (2.4.7)\n",
      "Requirement already satisfied: pillow>=6.2.0 in /opt/conda/envs/segmentation/lib/python3.7/site-packages (from matplotlib->mmsegmentation==0.18.0) (8.4.0)\n",
      "Requirement already satisfied: python-dateutil>=2.7 in /opt/conda/envs/segmentation/lib/python3.7/site-packages (from matplotlib->mmsegmentation==0.18.0) (2.8.2)\n",
      "Requirement already satisfied: kiwisolver>=1.0.1 in /opt/conda/envs/segmentation/lib/python3.7/site-packages (from matplotlib->mmsegmentation==0.18.0) (1.3.2)\n",
      "Requirement already satisfied: cycler>=0.10 in /opt/conda/envs/segmentation/lib/python3.7/site-packages (from matplotlib->mmsegmentation==0.18.0) (0.10.0)\n",
      "Requirement already satisfied: importlib-metadata in /opt/conda/envs/segmentation/lib/python3.7/site-packages (from prettytable->mmsegmentation==0.18.0) (4.8.1)\n",
      "Requirement already satisfied: wcwidth in /opt/conda/envs/segmentation/lib/python3.7/site-packages (from prettytable->mmsegmentation==0.18.0) (0.2.5)\n",
      "Requirement already satisfied: six in /opt/conda/envs/segmentation/lib/python3.7/site-packages (from cycler>=0.10->matplotlib->mmsegmentation==0.18.0) (1.16.0)\n",
      "Requirement already satisfied: zipp>=0.5 in /opt/conda/envs/segmentation/lib/python3.7/site-packages (from importlib-metadata->prettytable->mmsegmentation==0.18.0) (3.6.0)\n",
      "Requirement already satisfied: typing-extensions>=3.6.4 in /opt/conda/envs/segmentation/lib/python3.7/site-packages (from importlib-metadata->prettytable->mmsegmentation==0.18.0) (3.10.0.2)\n",
      "Installing collected packages: mmsegmentation\n",
      "  Attempting uninstall: mmsegmentation\n",
      "    Found existing installation: mmsegmentation 0.18.0\n",
      "    Uninstalling mmsegmentation-0.18.0:\n",
      "      Successfully uninstalled mmsegmentation-0.18.0\n",
      "  Running setup.py develop for mmsegmentation\n",
      "Successfully installed mmsegmentation-0.18.0\n",
      "\u001b[33mWARNING: Running pip as the 'root' user can result in broken permissions and conflicting behaviour with the system package manager. It is recommended to use a virtual environment instead: https://pip.pypa.io/warnings/venv\u001b[0m\n"
     ]
    }
   ],
   "source": [
    "!conda install pytorch=1.6.0 torchvision cudatoolkit=10.1 -c pytorch -y\n",
    "!pip install mmcv-full -f https://download.openmmlab.com/mmcv/dist/cu101/torch1.6.0/index.html\n",
    "!pip install mmcv\n",
    "!pip install mmsegmentation\n",
    "!pip install wandb\n",
    "!pip install -e ."
   ]
  },
  {
   "cell_type": "code",
   "execution_count": 9,
   "metadata": {
    "ExecuteTime": {
     "end_time": "2021-10-04T05:54:58.701660Z",
     "start_time": "2021-10-04T05:54:58.680659Z"
    },
    "scrolled": true
   },
   "outputs": [],
   "source": [
    "import os\n",
    "import torch\n",
    "from torch.utils.data import Dataset, DataLoader\n",
    "import cv2\n",
    "import numpy as np\n",
    "from pycocotools.coco import COCO\n",
    "import shutil\n",
    "from tqdm import tqdm\n",
    "\n",
    "import torch.nn as nn\n",
    "import torch.optim as optim\n",
    "\n",
    "import albumentations as A\n",
    "from albumentations.pytorch import ToTensorV2"
   ]
  },
  {
   "cell_type": "code",
   "execution_count": 7,
   "metadata": {
    "ExecuteTime": {
     "end_time": "2021-10-04T06:16:06.631207Z",
     "start_time": "2021-10-04T06:16:06.620206Z"
    },
    "tags": []
   },
   "outputs": [],
   "source": [
    "dataset_path  = '/opt/ml/segmentation/input/data'\n",
    "category_names = ['Backgroud', 'General trash', 'Paper', 'Paper pack', 'Metal', 'Glass', 'Plastic', 'Styrofoam', 'Plastic bag', 'Battery', 'Clothing']\n",
    "\n",
    "def get_classname(classID, cats):\n",
    "    for i in range(len(cats)):\n",
    "        if cats[i]['id']==classID:\n",
    "            return cats[i]['name']\n",
    "    return \"None\"\n",
    "\n",
    "class CustomDataLoader(Dataset):\n",
    "    \"\"\"COCO format\"\"\"\n",
    "    def __init__(self, data_dir, mode = 'train', transform = None):\n",
    "        super().__init__()\n",
    "        self.mode = mode\n",
    "        self.transform = transform\n",
    "        self.coco = COCO(data_dir)\n",
    "        \n",
    "    def __getitem__(self, index: int):\n",
    "        # dataset이 index되어 list처럼 동작\n",
    "        image_id = self.coco.getImgIds(imgIds=index)\n",
    "        image_infos = self.coco.loadImgs(image_id)[0]\n",
    "        \n",
    "        # cv2 를 활용하여 image 불러오기\n",
    "        images = cv2.imread(os.path.join(dataset_path, image_infos['file_name']))\n",
    "        images = cv2.cvtColor(images, cv2.COLOR_BGR2RGB).astype(np.float32)\n",
    "        images /= 255.0\n",
    "        \n",
    "        if (self.mode in ('train', 'val')):\n",
    "            ann_ids = self.coco.getAnnIds(imgIds=image_infos['id'])\n",
    "            anns = self.coco.loadAnns(ann_ids)\n",
    "\n",
    "            # Load the categories in a variable\n",
    "            cat_ids = self.coco.getCatIds()\n",
    "            cats = self.coco.loadCats(cat_ids)\n",
    "\n",
    "            # masks : size가 (height x width)인 2D\n",
    "            # 각각의 pixel 값에는 \"category id\" 할당\n",
    "            # Background = 0\n",
    "            masks = np.zeros((image_infos[\"height\"], image_infos[\"width\"]))\n",
    "            # General trash = 1, ... , Cigarette = 10\n",
    "            anns = sorted(anns, key=lambda idx : len(idx['segmentation'][0]), reverse=False)\n",
    "            for i in range(len(anns)):\n",
    "                className = get_classname(anns[i]['category_id'], cats)\n",
    "                pixel_value = category_names.index(className)\n",
    "                masks[self.coco.annToMask(anns[i]) == 1] = pixel_value\n",
    "            masks = masks.astype(np.int8)\n",
    "                        \n",
    "            # transform -> albumentations 라이브러리 활용\n",
    "            if self.transform is not None:\n",
    "                transformed = self.transform(image=images, mask=masks)\n",
    "                images = transformed[\"image\"]\n",
    "                masks = transformed[\"mask\"]\n",
    "            return images, masks, image_infos, os.path.join(dataset_path, image_infos['file_name'])\n",
    "        \n",
    "        if self.mode == 'test':\n",
    "            # transform -> albumentations 라이브러리 활용\n",
    "            if self.transform is not None:\n",
    "                transformed = self.transform(image=images)\n",
    "                images = transformed[\"image\"]\n",
    "            return images, image_infos, os.path.join(dataset_path, image_infos['file_name'])\n",
    "    \n",
    "    def __len__(self) -> int:\n",
    "        # 전체 dataset의 size를 return\n",
    "        return len(self.coco.getImgIds())"
   ]
  },
  {
   "cell_type": "code",
   "execution_count": 8,
   "metadata": {
    "ExecuteTime": {
     "end_time": "2021-10-04T06:16:11.389706Z",
     "start_time": "2021-10-04T06:16:07.146708Z"
    },
    "scrolled": true
   },
   "outputs": [
    {
     "name": "stdout",
     "output_type": "stream",
     "text": [
      "loading annotations into memory...\n",
      "Done (t=3.81s)\n",
      "creating index...\n",
      "index created!\n",
      "loading annotations into memory...\n",
      "Done (t=1.26s)\n",
      "creating index...\n",
      "index created!\n",
      "loading annotations into memory...\n",
      "Done (t=0.02s)\n",
      "creating index...\n",
      "index created!\n"
     ]
    }
   ],
   "source": [
    "# train.json / validation.json / test.json 디렉토리 설정\n",
    "train_path = dataset_path + '/train.json'\n",
    "val_path = dataset_path + '/val.json'\n",
    "test_path = dataset_path + '/test.json'\n",
    "\n",
    "# collate_fn needs for batch\n",
    "def collate_fn(batch):\n",
    "    return tuple(zip(*batch))\n",
    "\n",
    "train_transform = A.Compose([ToTensorV2()])\n",
    "val_transform = A.Compose([ToTensorV2()])\n",
    "test_transform = A.Compose([ToTensorV2()])\n",
    "\n",
    "train_dataset = CustomDataLoader(data_dir=train_path, mode='train', transform=train_transform)\n",
    "val_dataset = CustomDataLoader(data_dir=val_path, mode='val', transform=val_transform)\n",
    "test_dataset = CustomDataLoader(data_dir=test_path, mode='test', transform=test_transform)\n",
    "\n",
    "train_loader = torch.utils.data.DataLoader(dataset=train_dataset, collate_fn=collate_fn)\n",
    "val_loader = torch.utils.data.DataLoader(dataset=val_dataset, collate_fn=collate_fn)\n",
    "test_loader = torch.utils.data.DataLoader(dataset=test_dataset, collate_fn=collate_fn)"
   ]
  },
  {
   "cell_type": "code",
   "execution_count": 10,
   "metadata": {},
   "outputs": [],
   "source": [
    "train_image_path = os.path.join(mmseg_path, 'data/images/train')\n",
    "val_image_path = os.path.join(mmseg_path, 'data/images/val')\n",
    "train_ann_path = os.path.join(mmseg_path, 'data/annotations/train')\n",
    "val_ann_path = os.path.join(mmseg_path, 'data/annotations/val')\n",
    "test_image_path = os.path.join(mmseg_path, 'data/images/test')\n",
    "test_ann_path = os.path.join(mmseg_path, 'data/annotations/test')\n",
    "\n",
    "dir_paths = [train_image_path, val_image_path, train_ann_path, val_ann_path, test_image_path, test_ann_path]\n",
    "\n",
    "def makedirs(path): \n",
    "    try: \n",
    "        os.makedirs(path) \n",
    "    except OSError: \n",
    "        print(f\"Directory is already exist.({path})\")\n",
    "        if not os.path.isdir(path): \n",
    "            raise\n",
    "\n",
    "for path in dir_paths:\n",
    "    makedirs(path)"
   ]
  },
  {
   "cell_type": "code",
   "execution_count": 11,
   "metadata": {},
   "outputs": [],
   "source": [
    "def generate_mask_image(mode, data_loader, image_path, ann_path=None):\n",
    "    print(f'Create {mode} data...')\n",
    "\n",
    "    if mode == 'train' or mode == 'val':\n",
    "        if ann_path==None:\n",
    "            print(f'ann_path is empty')\n",
    "            return\n",
    "        for images, masks, image_infos, imagepath in tqdm(data_loader):\n",
    "            image_file_path = os.path.join(image_path, f\"{image_infos[0]['id']:04}.jpg\")\n",
    "            anno_file_path = os.path.join(ann_path, f\"{image_infos[0]['id']:04}.png\")\n",
    "            \n",
    "            masks = masks[0].numpy()\n",
    "            shutil.copy2(imagepath[0], image_file_path)\n",
    "            cv2.imwrite(anno_file_path, masks)\n",
    "    elif mode == 'test':\n",
    "        for images, image_infos, imagepath in tqdm(data_loader):\n",
    "            image_file_path = os.path.join(image_path, f\"{image_infos[0]['id']:04}.jpg\")\n",
    "            shutil.copy2(imagepath[0], image_file_path)\n",
    "    else:\n",
    "        print(f\"mode = 'train' or 'val' or 'test'\")"
   ]
  },
  {
   "cell_type": "code",
   "execution_count": 12,
   "metadata": {},
   "outputs": [
    {
     "name": "stderr",
     "output_type": "stream",
     "text": [
      "  0%|          | 9/2617 [00:00<00:31, 82.73it/s]"
     ]
    },
    {
     "name": "stdout",
     "output_type": "stream",
     "text": [
      "Create train data...\n"
     ]
    },
    {
     "name": "stderr",
     "output_type": "stream",
     "text": [
      "100%|██████████| 2617/2617 [00:38<00:00, 67.17it/s]\n",
      "  1%|          | 6/655 [00:00<00:11, 57.98it/s]"
     ]
    },
    {
     "name": "stdout",
     "output_type": "stream",
     "text": [
      "Create val data...\n"
     ]
    },
    {
     "name": "stderr",
     "output_type": "stream",
     "text": [
      "100%|██████████| 655/655 [00:09<00:00, 67.17it/s]\n",
      "  2%|▏         | 18/819 [00:00<00:04, 178.88it/s]"
     ]
    },
    {
     "name": "stdout",
     "output_type": "stream",
     "text": [
      "Create test data...\n"
     ]
    },
    {
     "name": "stderr",
     "output_type": "stream",
     "text": [
      "100%|██████████| 819/819 [00:04<00:00, 166.22it/s]"
     ]
    },
    {
     "name": "stdout",
     "output_type": "stream",
     "text": [
      "Done.\n"
     ]
    },
    {
     "name": "stderr",
     "output_type": "stream",
     "text": [
      "\n"
     ]
    }
   ],
   "source": [
    "generate_mask_image('train', train_loader, train_image_path, train_ann_path)\n",
    "generate_mask_image('val', val_loader, val_image_path, val_ann_path)\n",
    "generate_mask_image('test', test_loader, test_image_path)\n",
    "\n",
    "print(\"Done.\")"
   ]
  },
  {
   "cell_type": "code",
   "execution_count": null,
   "metadata": {},
   "outputs": [],
   "source": []
  }
 ],
 "metadata": {
  "hide_input": false,
  "interpreter": {
   "hash": "d36e052b391be8c28b05838ade06426769a29575d5fe21a7bc69c7dec0c04c06"
  },
  "kernelspec": {
   "display_name": "mmseg",
   "language": "python",
   "name": "mmseg"
  },
  "language_info": {
   "codemirror_mode": {
    "name": "ipython",
    "version": 3
   },
   "file_extension": ".py",
   "mimetype": "text/x-python",
   "name": "python",
   "nbconvert_exporter": "python",
   "pygments_lexer": "ipython3",
   "version": "3.7.11"
  },
  "toc": {
   "base_numbering": 1,
   "nav_menu": {},
   "number_sections": true,
   "sideBar": true,
   "skip_h1_title": false,
   "title_cell": "Table of Contents",
   "title_sidebar": "Contents",
   "toc_cell": true,
   "toc_position": {
    "height": "calc(100% - 180px)",
    "left": "10px",
    "top": "150px",
    "width": "394.25px"
   },
   "toc_section_display": true,
   "toc_window_display": true
  }
 },
 "nbformat": 4,
 "nbformat_minor": 4
}
