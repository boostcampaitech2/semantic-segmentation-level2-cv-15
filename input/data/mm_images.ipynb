{
 "cells": [
  {
   "cell_type": "code",
   "execution_count": 1,
   "metadata": {},
   "outputs": [],
   "source": [
    "import os\n",
    "import json\n",
    "import shutil\n",
    "\n",
    "DATAROOT = \"./data\"\n",
    "TRAINJSON = os.path.join(DATAROOT,\"train.json\") # img_path: batch_01_vt/0011.jpg\n",
    "VALIDJSON = os.path.join(DATAROOT,\"val.json\")\n",
    "TESTJSON = os.path.join(DATAROOT,\"test.json\")\n",
    "\n",
    "'''\n",
    "Redistribution image by train/valid/test \n",
    "\n",
    "rename img by img_id\n",
    "'''\n",
    "def _rename_images(json_dir, image_dir):\n",
    "\twith open(json_dir, \"r\", encoding=\"utf8\") as outfile:\n",
    "\t\tjson_data = json.load(outfile)\n",
    "\timage_datas = json_data[\"images\"]\n",
    "\n",
    "\tfor image_data in image_datas:\n",
    "\n",
    "\t\tshutil.copyfile(os.path.join(image_data['file_name']), os.path.join(image_dir,f\"{image_data['id']:04}.jpg\"))\n",
    "\n",
    "'''\n",
    "Wrap func\n",
    "'''\n",
    "def make(json,path):\n",
    "\timagePath = '../images/'+path\n",
    "\n",
    "\tos.makedirs(imagePath, exist_ok=True)\n",
    "\t_rename_images(json,imagePath)\n",
    "\n",
    "\n",
    "'''\n",
    "Main\n",
    "'''\n",
    "def __main__():\n",
    "\n",
    "\tmake(TRAINJSON, 'training')\n",
    "\tmake(VALIDJSON, 'validation')\n",
    "\tmake(TESTJSON, 'test')\n",
    "\n",
    "\n",
    "if __name__=='__main__':\n",
    "\t__main__()\n"
   ]
  }
 ],
 "metadata": {
  "hide_input": false,
  "kernelspec": {
   "display_name": "Python 3 (ipykernel)",
   "language": "python",
   "name": "python3"
  },
  "language_info": {
   "codemirror_mode": {
    "name": "ipython",
    "version": 3
   },
   "file_extension": ".py",
   "mimetype": "text/x-python",
   "name": "python",
   "nbconvert_exporter": "python",
   "pygments_lexer": "ipython3",
   "version": "3.7.11"
  },
  "toc": {
   "base_numbering": 1,
   "nav_menu": {},
   "number_sections": true,
   "sideBar": true,
   "skip_h1_title": false,
   "title_cell": "Table of Contents",
   "title_sidebar": "Contents",
   "toc_cell": true,
   "toc_position": {
    "height": "calc(100% - 180px)",
    "left": "10px",
    "top": "150px",
    "width": "394.25px"
   },
   "toc_section_display": true,
   "toc_window_display": true
  }
 },
 "nbformat": 4,
 "nbformat_minor": 4
}
