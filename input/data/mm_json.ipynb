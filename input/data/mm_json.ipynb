{
 "cells": [
  {
   "cell_type": "code",
   "execution_count": 2,
   "metadata": {},
   "outputs": [],
   "source": [
    "import os\n",
    "import json\n",
    "\n",
    "DATAROOT = \"./\"\n",
    "TRAINJSON = os.path.join(DATAROOT,\"train.json\")\n",
    "VALIDJSON = os.path.join(DATAROOT,\"val.json\")\n",
    "TESTJSON = os.path.join(DATAROOT,\"test.json\")\n",
    "\n",
    "'''\n",
    "Edit file name as img id\n",
    "'''\n",
    "def _edit_file_name(json_dir, annotationPath):\n",
    "\n",
    "\twith open(json_dir, \"r\", encoding=\"utf8\") as outfile:\n",
    "\t\tdatas = json.load(outfile)\n",
    "\n",
    "\t\tfor data in datas[\"images\"]:\n",
    "\t\t\tdata[\"file_name\"] = f\"{data['id']:04}.jpg\"\n",
    "\n",
    "\twith open(annotationPath+\"/edit.json\", \"w\") as new_file:\n",
    "\t\tjson.dump(datas, new_file, indent='\\t')\n",
    "\n",
    "'''\n",
    "Wrap func\n",
    "'''\n",
    "def make(json, path):\n",
    "\tannotationPath = '../annotations/'+path\n",
    "\n",
    "\tos.makedirs(annotationPath, exist_ok=True)\n",
    "\t_edit_file_name(json, annotationPath)\n",
    "\n",
    "\n",
    "'''\n",
    "Main\n",
    "'''\n",
    "def __main__():\n",
    "\n",
    "\tmake(TRAINJSON, 'training')\n",
    "\tmake(VALIDJSON, 'validation')\n",
    "\tmake(TESTJSON, 'test')\n",
    "\n",
    "\t\n",
    "if __name__=='__main__':\n",
    "\t__main__()"
   ]
  }
 ],
 "metadata": {
  "hide_input": false,
  "kernelspec": {
   "display_name": "Python 3 (ipykernel)",
   "language": "python",
   "name": "python3"
  },
  "language_info": {
   "codemirror_mode": {
    "name": "ipython",
    "version": 3
   },
   "file_extension": ".py",
   "mimetype": "text/x-python",
   "name": "python",
   "nbconvert_exporter": "python",
   "pygments_lexer": "ipython3",
   "version": "3.7.11"
  },
  "toc": {
   "base_numbering": 1,
   "nav_menu": {},
   "number_sections": true,
   "sideBar": true,
   "skip_h1_title": false,
   "title_cell": "Table of Contents",
   "title_sidebar": "Contents",
   "toc_cell": true,
   "toc_position": {
    "height": "calc(100% - 180px)",
    "left": "10px",
    "top": "150px",
    "width": "394.25px"
   },
   "toc_section_display": true,
   "toc_window_display": true
  }
 },
 "nbformat": 4,
 "nbformat_minor": 4
}
