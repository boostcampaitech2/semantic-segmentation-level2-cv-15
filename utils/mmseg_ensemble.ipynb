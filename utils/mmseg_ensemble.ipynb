{
 "cells": [
  {
   "cell_type": "code",
   "execution_count": 17,
   "metadata": {},
   "outputs": [],
   "source": [
    "import os\n",
    "import mmcv\n",
    "from mmcv import Config\n",
    "\n",
    "from mmseg.datasets import build_dataloader, build_dataset\n",
    "from mmseg.models import build_segmentor\n",
    "from mmseg.apis import single_gpu_test\n",
    "\n",
    "from mmcv.runner import load_checkpoint\n",
    "from mmcv.parallel import MMDataParallel\n",
    "\n",
    "import pandas as pd\n",
    "import numpy as np\n",
    "import json\n",
    "import torch\n",
    "from tqdm import tqdm"
   ]
  },
  {
   "cell_type": "markdown",
   "metadata": {},
   "source": [
    "# Ensemble\n",
    "## define function get logit values"
   ]
  },
  {
   "cell_type": "code",
   "execution_count": 5,
   "metadata": {},
   "outputs": [],
   "source": [
    "def get_model_logit(config_path, model_path):\n",
    "\n",
    "    cfg = Config.fromfile(config_path)\n",
    "    root = 'images/test/'\n",
    "\n",
    "    cfg.data.test.img_dir = root\n",
    "    cfg.data.test.pipeline[1]['img_scale'] = (512,512)\n",
    "    cfg.data.test.test_mode = True\n",
    "\n",
    "\n",
    "    cfg.work_dir = '/opt/ml/lab/mmsegmentation/work_dirs'\n",
    "\n",
    "    cfg.optimizer_config.grad_clip = dict(max_norm=35, norm_type=2)\n",
    "    cfg.model.train_cfg = None\n",
    "\n",
    "    #define dataset\n",
    "    dataset = build_dataset(cfg.data.test)\n",
    "    data_loader = build_dataloader(\n",
    "            dataset,\n",
    "            samples_per_gpu=1,\n",
    "            workers_per_gpu=cfg.data.workers_per_gpu,\n",
    "            dist=False,\n",
    "            shuffle=False)\n",
    "\n",
    "    # build model architecture\n",
    "    model = build_segmentor(cfg.model, test_cfg=cfg.get('test_cfg'))\n",
    "    checkpoint = load_checkpoint(model, model_path, map_location='cpu')\n",
    "    \n",
    "    model.CLASSES = dataset.CLASSES\n",
    "    model = MMDataParallel(model.cuda(), device_ids=[0])\n",
    "    \n",
    "    print(f'{model_path} is ready to run')\n",
    "    return single_gpu_test(model, data_loader)"
   ]
  },
  {
   "cell_type": "code",
   "execution_count": 6,
   "metadata": {},
   "outputs": [
    {
     "name": "stderr",
     "output_type": "stream",
     "text": [
      "2021-11-01 13:43:19,454 - mmseg - INFO - Loaded 819 images\n"
     ]
    },
    {
     "name": "stdout",
     "output_type": "stream",
     "text": [
      "Use load_from_local loader\n",
      "/opt/ml/lab/mmsegmentation/pretrained/swin_fold1.pth is ready to run\n",
      "[>>>>>>>>>>>>>>>>>>>>>>>>>>>>>] 819/819, 5.4 task/s, elapsed: 151s, ETA:     0s"
     ]
    },
    {
     "name": "stderr",
     "output_type": "stream",
     "text": [
      "2021-11-01 13:45:56,300 - mmseg - INFO - Loaded 819 images\n"
     ]
    },
    {
     "name": "stdout",
     "output_type": "stream",
     "text": [
      "Use load_from_local loader\n",
      "/opt/ml/lab/mmsegmentation/pretrained/swin_plain_Fold_2.pth is ready to run\n",
      "[>>>>>>>>>>>>>>>>>>>>>>>>>>>>>] 819/819, 5.4 task/s, elapsed: 151s, ETA:     0s"
     ]
    },
    {
     "name": "stderr",
     "output_type": "stream",
     "text": [
      "2021-11-01 13:48:30,437 - mmseg - INFO - Loaded 819 images\n"
     ]
    },
    {
     "name": "stdout",
     "output_type": "stream",
     "text": [
      "Use load_from_local loader\n",
      "/opt/ml/lab/mmsegmentation/pretrained/swin_plain_Fold_3.pth is ready to run\n",
      "[>>>>>>>>>>>>>>>>>>>>>>>>>>>>>] 819/819, 4.5 task/s, elapsed: 181s, ETA:     0s"
     ]
    },
    {
     "name": "stderr",
     "output_type": "stream",
     "text": [
      "2021-11-01 13:51:34,235 - mmseg - INFO - Loaded 819 images\n"
     ]
    },
    {
     "name": "stdout",
     "output_type": "stream",
     "text": [
      "Use load_from_local loader\n",
      "/opt/ml/lab/mmsegmentation/pretrained/swin_plain_Fold_4.pth is ready to run\n",
      "[>>>>>>>>>>>>>>>>>>>>>>>>>>>>>] 819/819, 4.5 task/s, elapsed: 182s, ETA:     0s"
     ]
    },
    {
     "name": "stderr",
     "output_type": "stream",
     "text": [
      "2021-11-01 13:54:39,138 - mmseg - INFO - Loaded 819 images\n"
     ]
    },
    {
     "name": "stdout",
     "output_type": "stream",
     "text": [
      "Use load_from_local loader\n",
      "/opt/ml/lab/mmsegmentation/pretrained/swin_plain_Fold_5.pth is ready to run\n",
      "[>>>>>>>>>>>>>>>>>>>>>>>>>>>>>] 819/819, 4.5 task/s, elapsed: 182s, ETA:     0s"
     ]
    }
   ],
   "source": [
    "config_path = '/opt/ml/lab/config_file/upernet_swin.py'\n",
    "model_path = '/opt/ml/lab/mmsegmentation/pretrained'\n",
    "output_1 = get_model_logit(config_path, model_path+'/swin_fold1.pth')\n",
    "output_2 = get_model_logit(config_path, model_path+'/swin_plain_Fold_2.pth')\n",
    "output_3 = get_model_logit(config_path, model_path+'/swin_plain_Fold_3.pth')\n",
    "output_4 = get_model_logit(config_path, model_path+'/swin_plain_Fold_4.pth')\n",
    "output_5 = get_model_logit(config_path, model_path+'/swin_plain_Fold_5.pth')\n"
   ]
  },
  {
   "cell_type": "markdown",
   "metadata": {},
   "source": [
    "### ensemble start\n",
    "- result = sum(output_1, output_2)\n",
    "- argmax(result, axis=0)"
   ]
  },
  {
   "cell_type": "code",
   "execution_count": 34,
   "metadata": {},
   "outputs": [
    {
     "data": {
      "image/png": "[encoded data removed]",
      "text/plain": [
       "<Figure size 864x864 with 5 Axes>"
      ]
     },
     "metadata": {
      "needs_background": "light"
     },
     "output_type": "display_data"
    }
   ],
   "source": [
    "import matplotlib.pyplot as plt\n",
    "\n",
    "fig, ax = plt.subplots(nrows=1, ncols=5, figsize=(12, 12))\n",
    "\n",
    "# mask = np.where(mask==0, 255, mask)\n",
    "\n",
    "predict_mask_array = []\n",
    "    \n",
    "predict_mask_array.append(output_1[470].argmax(axis=0))\n",
    "predict_mask_array.append(output_2[470].argmax(axis=0))\n",
    "predict_mask_array.append(output_3[470].argmax(axis=0))\n",
    "predict_mask_array.append(output_4[470].argmax(axis=0))\n",
    "predict_mask_array.append(output_5[470].argmax(axis=0))\n",
    "\n",
    "for i in range(5):\n",
    "    ax[i].set_title(f'output{i} mask')\n",
    "    ax[i].imshow(predict_mask_array[i])\n",
    "\n",
    "plt.show()"
   ]
  },
  {
   "cell_type": "code",
   "execution_count": 15,
   "metadata": {},
   "outputs": [
    {
     "name": "stdout",
     "output_type": "stream",
     "text": [
      "0 249767\n",
      "1 12377\n",
      "0 249895\n",
      "1 5280\n",
      "6 6969\n",
      "0 249487\n",
      "1 12657\n",
      "0 249851\n",
      "1 12293\n",
      "0 249489\n",
      "1 12655\n"
     ]
    }
   ],
   "source": [
    "def cal_class_counts(value):\n",
    "    classes, counts = np.unique(value, return_counts=True)\n",
    "    for i,v in zip(classes, counts):\n",
    "        print(i,v)\n",
    "        \n",
    "for item in predict_mask_array:\n",
    "    cal_class_counts(item)"
   ]
  },
  {
   "cell_type": "code",
   "execution_count": 18,
   "metadata": {},
   "outputs": [
    {
     "name": "stderr",
     "output_type": "stream",
     "text": [
      "819it [00:13, 58.84it/s]\n"
     ]
    }
   ],
   "source": [
    "output_to_mask = []\n",
    "\n",
    "for item_1, item_2, item_3, item_4, item_5 in tqdm(zip(output_1, output_2, output_3, output_4, output_5)):\n",
    "    \n",
    "    new_item = item_1 + item_2 + item_3 + item_4 + item_5\n",
    "    output_to_mask.append(new_item.argmax(axis=0))"
   ]
  },
  {
   "cell_type": "code",
   "execution_count": 20,
   "metadata": {},
   "outputs": [
    {
     "data": {
      "image/png": "[encoded data removed]",
      "text/plain": [
       "<Figure size 432x288 with 1 Axes>"
      ]
     },
     "metadata": {
      "needs_background": "light"
     },
     "output_type": "display_data"
    }
   ],
   "source": [
    "plt.imshow(output_to_mask[2])\n",
    "classes, counts = np.unique(output_to_mask[2], return_counts=True)"
   ]
  },
  {
   "cell_type": "code",
   "execution_count": 21,
   "metadata": {},
   "outputs": [
    {
     "name": "stdout",
     "output_type": "stream",
     "text": [
      "0 209065\n",
      "8 53079\n"
     ]
    }
   ],
   "source": [
    "cal_class_counts(output_to_mask[0])"
   ]
  },
  {
   "cell_type": "code",
   "execution_count": 23,
   "metadata": {},
   "outputs": [],
   "source": [
    "# sample_submisson.csv 열기\n",
    "submission = pd.read_csv('/opt/ml/segmentation/baseline_code/submission/sample_submission.csv', index_col=None)\n",
    "json_dir = os.path.join(\"/opt/ml/segmentation/input/data/test.json\") # original json file\n",
    "save_dir = '/opt/ml/lab/config_file/work_dirs/upernet_swin'\n",
    "with open(json_dir, \"r\", encoding=\"utf8\") as outfile:\n",
    "    datas = json.load(outfile)\n",
    "\n",
    "input_size = 512\n",
    "output_size = 256\n",
    "bin_size = input_size // output_size\n",
    "\n",
    "# PredictionString 대입\n",
    "for image_id, predict in enumerate(output_to_mask):\n",
    "    image_id = datas[\"images\"][image_id]\n",
    "    file_name = image_id[\"file_name\"]\n",
    "    \n",
    "    temp_mask = []\n",
    "    predict = predict.reshape(1, 512, 512)\n",
    "    mask = predict.reshape((1, output_size, bin_size, output_size, bin_size)).max(4).max(2) # resize to 256*256\n",
    "    temp_mask.append(mask)\n",
    "    oms = np.array(temp_mask)\n",
    "    oms = oms.reshape([oms.shape[0], output_size*output_size]).astype(int)\n",
    "\n",
    "    string = oms.flatten()\n",
    "\n",
    "    submission = submission.append({\"image_id\" : file_name, \"PredictionString\" : ' '.join(str(e) for e in string.tolist())}, \n",
    "                                   ignore_index=True)\n",
    "\n",
    "# submission.csv로 저장\n",
    "submission.to_csv(os.path.join(save_dir, f'submission_ensemble.csv'), index=False)"
   ]
  },
  {
   "cell_type": "code",
   "execution_count": 21,
   "metadata": {},
   "outputs": [
    {
     "name": "stdout",
     "output_type": "stream",
     "text": [
      "/opt/ml/lab/mmsegmentation/work_dirs\n"
     ]
    }
   ],
   "source": [
    "print(cfg.work_dir)"
   ]
  },
  {
   "cell_type": "code",
   "execution_count": 22,
   "metadata": {},
   "outputs": [
    {
     "name": "stdout",
     "output_type": "stream",
     "text": [
      "{'type': 'COCOTrashDataset', 'data_root': '/opt/ml/lab/mmsegmentation/fold_dataset', 'img_dir': 'images/test/', 'ann_dir': '/opt/ml/lab/mmsegmentation/fold_dataset/annotations/test', 'classes': ('Backgroud', 'General trash', 'Paper', 'Paper pack', 'Metal', 'Glass', 'Plastic', 'Styrofoam', 'Plastic bag', 'Battery', 'Clothing'), 'pipeline': [{'type': 'LoadImageFromFile'}, {'type': 'MultiScaleFlipAug', 'img_scale': (512, 512), 'img_ratios': [0.75, 1.0, 1.25], 'flip': False, 'transforms': [{'type': 'Resize', 'keep_ratio': True}, {'type': 'RandomFlip', 'prob': 0.5, 'direction': 'horizontal'}, {'type': 'Normalize', 'mean': [117.324, 112.09, 106.66], 'std': [53.76, 52.95, 55.22], 'to_rgb': True}, {'type': 'ImageToTensor', 'keys': ['img']}, {'type': 'Collect', 'keys': ['img']}]}], 'test_mode': True}\n"
     ]
    }
   ],
   "source": [
    "print(cfg.data.test)"
   ]
  },
  {
   "cell_type": "code",
   "execution_count": 25,
   "metadata": {},
   "outputs": [
    {
     "name": "stderr",
     "output_type": "stream",
     "text": [
      "819it [00:28, 29.10it/s]\n"
     ]
    }
   ],
   "source": [
    "import pickle\n",
    "\n",
    "pickle_list = []\n",
    "\n",
    "for item_1, item_2, item_3, item_4, item_5 in tqdm(zip(output_1, output_2, output_3, output_4, output_5)):\n",
    "    \n",
    "    new_item = item_1 + item_2 + item_3 + item_4 + item_5\n",
    "    pickle_list.append(new_item)\n",
    "    \n",
    "with open('swin_fold_ensemble.bin', 'wb') as f:\n",
    "    pickle.dump(pickle_list , f)"
   ]
  },
  {
   "cell_type": "code",
   "execution_count": 26,
   "metadata": {},
   "outputs": [
    {
     "name": "stderr",
     "output_type": "stream",
     "text": [
      "IOPub data rate exceeded.\n",
      "The Jupyter server will temporarily stop sending output\n",
      "to the client in order to avoid crashing it.\n",
      "To change this limit, set the config variable\n",
      "`--ServerApp.iopub_data_rate_limit`.\n",
      "\n",
      "Current values:\n",
      "ServerApp.iopub_data_rate_limit=1000000.0 (bytes/sec)\n",
      "ServerApp.rate_limit_window=3.0 (secs)\n",
      "\n"
     ]
    }
   ],
   "source": [
    "with open('swin_fold_ensemble.bin' ,'rb') as ff:\n",
    "    data = pickle.load(ff)"
   ]
  },
  {
   "cell_type": "code",
   "execution_count": 30,
   "metadata": {},
   "outputs": [
    {
     "name": "stdout",
     "output_type": "stream",
     "text": [
      "(819, 11, 512, 512)\n"
     ]
    }
   ],
   "source": [
    "print(np.array(data).shape)"
   ]
  },
  {
   "cell_type": "code",
   "execution_count": null,
   "metadata": {},
   "outputs": [],
   "source": []
  }
 ],
 "metadata": {
  "kernelspec": {
   "display_name": "mmlab",
   "language": "python",
   "name": "mmlab"
  },
  "language_info": {
   "codemirror_mode": {
    "name": "ipython",
    "version": 3
   },
   "file_extension": ".py",
   "mimetype": "text/x-python",
   "name": "python",
   "nbconvert_exporter": "python",
   "pygments_lexer": "ipython3",
   "version": "3.7.11"
  }
 },
 "nbformat": 4,
 "nbformat_minor": 4
}
