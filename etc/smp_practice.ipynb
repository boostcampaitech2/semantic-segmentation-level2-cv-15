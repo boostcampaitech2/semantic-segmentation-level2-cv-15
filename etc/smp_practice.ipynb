{
 "metadata": {
  "language_info": {
   "codemirror_mode": {
    "name": "ipython",
    "version": 3
   },
   "file_extension": ".py",
   "mimetype": "text/x-python",
   "name": "python",
   "nbconvert_exporter": "python",
   "pygments_lexer": "ipython3",
   "version": "3.7.11-final"
  },
  "orig_nbformat": 2,
  "kernelspec": {
   "name": "python3",
   "display_name": "Python 3.7.11 64-bit ('segmentation': conda)",
   "metadata": {
    "interpreter": {
     "hash": "30892ed292c6cd593b0b9b599b2f211d64d30f50d132edd151203e32cee39bb9"
    }
   }
  }
 },
 "nbformat": 4,
 "nbformat_minor": 2,
 "cells": [
  {
   "cell_type": "code",
   "execution_count": 4,
   "metadata": {},
   "outputs": [
    {
     "output_type": "stream",
     "name": "stdout",
     "text": [
      "pytorch version: 1.7.1\nGPU 사용 가능 여부: True\nTesla V100-SXM2-32GB\n1\n"
     ]
    }
   ],
   "source": [
    "import torch\n",
    "import torch.nn as nn\n",
    "import random\n",
    "import json\n",
    "\n",
    "import cv2\n",
    "from torch.utils.data import DataLoader, Dataset\n",
    "\n",
    "#preprocessing\n",
    "from pycocotools.coco import COCO\n",
    "\n",
    "print('pytorch version: {}'.format(torch.__version__))\n",
    "print('GPU 사용 가능 여부: {}'.format(torch.cuda.is_available()))\n",
    "\n",
    "print(torch.cuda.get_device_name(0))\n",
    "print(torch.cuda.device_count())\n",
    "\n",
    "# GPU 사용 가능 여부에 따라 device 정보 저장\n",
    "device = \"cuda\" if torch.cuda.is_available() else \"cpu\"\n"
   ]
  },
  {
   "cell_type": "code",
   "execution_count": 5,
   "metadata": {},
   "outputs": [],
   "source": [
    "import segmentation_models_pytorch as smp\n",
    "import numpy as np\n",
    "\n",
    "random_seed = 15\n",
    "random.seed(random_seed)\n",
    "np.random.seed(random_seed)"
   ]
  },
  {
   "source": [
    "## Dataset & Dataloader"
   ],
   "cell_type": "markdown",
   "metadata": {}
  },
  {
   "cell_type": "code",
   "execution_count": 6,
   "metadata": {},
   "outputs": [],
   "source": [
    "class CustomDataLoader(Dataset):\n",
    "    \"\"\"COCO format\"\"\"\n",
    "    def __init__(self, data_dir, mode = 'train', transform = None):\n",
    "        super().__init__()\n",
    "        self.mode = mode\n",
    "        self.transform = transform\n",
    "        self.coco = COCO(data_dir)\n",
    "        \n",
    "    def __getitem__(self, index: int):\n",
    "        # dataset이 index되어 list처럼 동작\n",
    "        image_id = self.coco.getImgIds(imgIds=index)\n",
    "        image_infos = self.coco.loadImgs(image_id)[0]\n",
    "        \n",
    "        # cv2 를 활용하여 image 불러오기\n",
    "        images = cv2.imread(os.path.join(dataset_path, image_infos['file_name']))\n",
    "        images = cv2.cvtColor(images, cv2.COLOR_BGR2RGB).astype(np.float32)\n",
    "        images /= 255.0\n",
    "        \n",
    "        if (self.mode in ('train', 'val')):\n",
    "            ann_ids = self.coco.getAnnIds(imgIds=image_infos['id'])\n",
    "            anns = self.coco.loadAnns(ann_ids)\n",
    "\n",
    "            # Load the categories in a variable\n",
    "            cat_ids = self.coco.getCatIds()\n",
    "            cats = self.coco.loadCats(cat_ids)\n",
    "\n",
    "            # masks : size가 (height x width)인 2D\n",
    "            # 각각의 pixel 값에는 \"category id\" 할당\n",
    "            # Background = 0\n",
    "            masks = np.zeros((image_infos[\"height\"], image_infos[\"width\"]))\n",
    "            # General trash = 1, ... , Cigarette = 10\n",
    "            anns = sorted(anns, key=lambda idx : len(idx['segmentation'][0]), reverse=False)\n",
    "            for i in range(len(anns)):\n",
    "                className = get_classname(anns[i]['category_id'], cats)\n",
    "                pixel_value = category_names.index(className)\n",
    "                masks[self.coco.annToMask(anns[i]) == 1] = pixel_value\n",
    "            masks = masks.astype(np.int8)\n",
    "                        \n",
    "            # transform -> albumentations 라이브러리 활용\n",
    "            if self.transform is not None:\n",
    "                transformed = self.transform(image=images, mask=masks)\n",
    "                images = transformed[\"image\"]\n",
    "                masks = transformed[\"mask\"]\n",
    "            return images, masks, image_infos\n",
    "        \n",
    "        if self.mode == 'test':\n",
    "            # transform -> albumentations 라이브러리 활용\n",
    "            if self.transform is not None:\n",
    "                transformed = self.transform(image=images)\n",
    "                images = transformed[\"image\"]\n",
    "            return images, image_infos\n",
    "    \n",
    "    def __len__(self) -> int:\n",
    "        # 전체 dataset의 size를 return\n",
    "        return len(self.coco.getImgIds())"
   ]
  },
  {
   "cell_type": "code",
   "execution_count": 9,
   "metadata": {},
   "outputs": [
    {
     "output_type": "stream",
     "name": "stdout",
     "text": [
      "loading annotations into memory...\n",
      "Done (t=3.72s)\n",
      "creating index...\n",
      "index created!\n",
      "loading annotations into memory...\n",
      "Done (t=2.11s)\n",
      "creating index...\n",
      "index created!\n"
     ]
    }
   ],
   "source": [
    "import albumentations as A\n",
    "from albumentations.pytorch import ToTensorV2\n",
    "\n",
    "\n",
    "def collate_fn(batch):\n",
    "    return tuple(zip(*batch))\n",
    "\n",
    "transform = A.Compose([\n",
    "    ToTensorV2()\n",
    "])\n",
    "\n",
    "dataset_path  = '../input/data'\n",
    "train_path = dataset_path + '/train.json'\n",
    "val_path = dataset_path + '/val.json'\n",
    "\n",
    "train_dataset = CustomDataLoader(data_dir=train_path, mode='train', transform=transform)\n",
    "valid_dataset = CustomDataLoader(data_dir=val_path, mode='val', transform=transform)\n",
    "\n",
    "smp_data_loader = torch.utils.data.DataLoader(dataset=train_dataset,\n",
    "                                                batch_size=8,\n",
    "                                                shuffle=True,\n",
    "                                                num_workers=4,\n",
    "                                                drop_last=True,\n",
    "                                                collate_fn=collate_fn)\n",
    "\n",
    "smp_valid_loader = torch.utils.data.DataLoader(dataset=valid_dataset,\n",
    "                                                batch_size=8,\n",
    "                                                shuffle=True,\n",
    "                                                num_workers=4,\n",
    "                                                drop_last=True,\n",
    "                                                collate_fn=collate_fn)\n"
   ]
  },
  {
   "cell_type": "code",
   "execution_count": 10,
   "metadata": {},
   "outputs": [
    {
     "output_type": "stream",
     "name": "stderr",
     "text": [
      "Downloading: \"https://github.com/lukemelas/EfficientNet-PyTorch/releases/download/1.0/efficientnet-b7-dcc49843.pth\" to /opt/ml/.cache/torch/hub/checkpoints/efficientnet-b7-dcc49843.pth\n"
     ]
    },
    {
     "output_type": "display_data",
     "data": {
      "text/plain": "HBox(children=(IntProgress(value=0, max=266860719), HTML(value='')))",
      "application/vnd.jupyter.widget-view+json": {
       "version_major": 2,
       "version_minor": 0,
       "model_id": "3cab49a2087b4975a471efab96755262"
      }
     },
     "metadata": {}
    },
    {
     "output_type": "stream",
     "name": "stdout",
     "text": [
      "\n"
     ]
    }
   ],
   "source": [
    "model = smp.DeepLabV3Plus(\n",
    "    encoder_name='efficientnet-b7',\n",
    "    encoder_weights='imagenet',\n",
    "    in_channels=3,\n",
    "    classes=11\n",
    ")"
   ]
  },
  {
   "cell_type": "code",
   "execution_count": 30,
   "metadata": {
    "tags": [
     "outputPrepend"
    ]
   },
   "outputs": [
    {
     "output_type": "stream",
     "name": "stdout",
     "text": [
      "  )\n        (_bn2): BatchNorm2d(384, eps=0.001, momentum=0.010000000000000009, affine=True, track_running_stats=True)\n        (_swish): MemoryEfficientSwish()\n      )\n      (43): MBConvBlock(\n        (_expand_conv): Conv2dStaticSamePadding(\n          384, 2304, kernel_size=(1, 1), stride=(1, 1), dilation=(2, 2), bias=False\n          (static_padding): Identity()\n        )\n        (_bn0): BatchNorm2d(2304, eps=0.001, momentum=0.010000000000000009, affine=True, track_running_stats=True)\n        (_depthwise_conv): Conv2dStaticSamePadding(\n          2304, 2304, kernel_size=(5, 5), stride=(1, 1), padding=(4, 4), dilation=(2, 2), groups=2304, bias=False\n          (static_padding): Identity()\n        )\n        (_bn1): BatchNorm2d(2304, eps=0.001, momentum=0.010000000000000009, affine=True, track_running_stats=True)\n        (_se_reduce): Conv2dStaticSamePadding(\n          2304, 96, kernel_size=(1, 1), stride=(1, 1), dilation=(2, 2)\n          (static_padding): Identity()\n        )\n        (_se_expand): Conv2dStaticSamePadding(\n          96, 2304, kernel_size=(1, 1), stride=(1, 1), dilation=(2, 2)\n          (static_padding): Identity()\n        )\n        (_project_conv): Conv2dStaticSamePadding(\n          2304, 384, kernel_size=(1, 1), stride=(1, 1), dilation=(2, 2), bias=False\n          (static_padding): Identity()\n        )\n        (_bn2): BatchNorm2d(384, eps=0.001, momentum=0.010000000000000009, affine=True, track_running_stats=True)\n        (_swish): MemoryEfficientSwish()\n      )\n      (44): MBConvBlock(\n        (_expand_conv): Conv2dStaticSamePadding(\n          384, 2304, kernel_size=(1, 1), stride=(1, 1), dilation=(2, 2), bias=False\n          (static_padding): Identity()\n        )\n        (_bn0): BatchNorm2d(2304, eps=0.001, momentum=0.010000000000000009, affine=True, track_running_stats=True)\n        (_depthwise_conv): Conv2dStaticSamePadding(\n          2304, 2304, kernel_size=(5, 5), stride=(1, 1), padding=(4, 4), dilation=(2, 2), groups=2304, bias=False\n          (static_padding): Identity()\n        )\n        (_bn1): BatchNorm2d(2304, eps=0.001, momentum=0.010000000000000009, affine=True, track_running_stats=True)\n        (_se_reduce): Conv2dStaticSamePadding(\n          2304, 96, kernel_size=(1, 1), stride=(1, 1), dilation=(2, 2)\n          (static_padding): Identity()\n        )\n        (_se_expand): Conv2dStaticSamePadding(\n          96, 2304, kernel_size=(1, 1), stride=(1, 1), dilation=(2, 2)\n          (static_padding): Identity()\n        )\n        (_project_conv): Conv2dStaticSamePadding(\n          2304, 384, kernel_size=(1, 1), stride=(1, 1), dilation=(2, 2), bias=False\n          (static_padding): Identity()\n        )\n        (_bn2): BatchNorm2d(384, eps=0.001, momentum=0.010000000000000009, affine=True, track_running_stats=True)\n        (_swish): MemoryEfficientSwish()\n      )\n      (45): MBConvBlock(\n        (_expand_conv): Conv2dStaticSamePadding(\n          384, 2304, kernel_size=(1, 1), stride=(1, 1), dilation=(2, 2), bias=False\n          (static_padding): Identity()\n        )\n        (_bn0): BatchNorm2d(2304, eps=0.001, momentum=0.010000000000000009, affine=True, track_running_stats=True)\n        (_depthwise_conv): Conv2dStaticSamePadding(\n          2304, 2304, kernel_size=(5, 5), stride=(1, 1), padding=(4, 4), dilation=(2, 2), groups=2304, bias=False\n          (static_padding): Identity()\n        )\n        (_bn1): BatchNorm2d(2304, eps=0.001, momentum=0.010000000000000009, affine=True, track_running_stats=True)\n        (_se_reduce): Conv2dStaticSamePadding(\n          2304, 96, kernel_size=(1, 1), stride=(1, 1), dilation=(2, 2)\n          (static_padding): Identity()\n        )\n        (_se_expand): Conv2dStaticSamePadding(\n          96, 2304, kernel_size=(1, 1), stride=(1, 1), dilation=(2, 2)\n          (static_padding): Identity()\n        )\n        (_project_conv): Conv2dStaticSamePadding(\n          2304, 384, kernel_size=(1, 1), stride=(1, 1), dilation=(2, 2), bias=False\n          (static_padding): Identity()\n        )\n        (_bn2): BatchNorm2d(384, eps=0.001, momentum=0.010000000000000009, affine=True, track_running_stats=True)\n        (_swish): MemoryEfficientSwish()\n      )\n      (46): MBConvBlock(\n        (_expand_conv): Conv2dStaticSamePadding(\n          384, 2304, kernel_size=(1, 1), stride=(1, 1), dilation=(2, 2), bias=False\n          (static_padding): Identity()\n        )\n        (_bn0): BatchNorm2d(2304, eps=0.001, momentum=0.010000000000000009, affine=True, track_running_stats=True)\n        (_depthwise_conv): Conv2dStaticSamePadding(\n          2304, 2304, kernel_size=(5, 5), stride=(1, 1), padding=(4, 4), dilation=(2, 2), groups=2304, bias=False\n          (static_padding): Identity()\n        )\n        (_bn1): BatchNorm2d(2304, eps=0.001, momentum=0.010000000000000009, affine=True, track_running_stats=True)\n        (_se_reduce): Conv2dStaticSamePadding(\n          2304, 96, kernel_size=(1, 1), stride=(1, 1), dilation=(2, 2)\n          (static_padding): Identity()\n        )\n        (_se_expand): Conv2dStaticSamePadding(\n          96, 2304, kernel_size=(1, 1), stride=(1, 1), dilation=(2, 2)\n          (static_padding): Identity()\n        )\n        (_project_conv): Conv2dStaticSamePadding(\n          2304, 384, kernel_size=(1, 1), stride=(1, 1), dilation=(2, 2), bias=False\n          (static_padding): Identity()\n        )\n        (_bn2): BatchNorm2d(384, eps=0.001, momentum=0.010000000000000009, affine=True, track_running_stats=True)\n        (_swish): MemoryEfficientSwish()\n      )\n      (47): MBConvBlock(\n        (_expand_conv): Conv2dStaticSamePadding(\n          384, 2304, kernel_size=(1, 1), stride=(1, 1), dilation=(2, 2), bias=False\n          (static_padding): Identity()\n        )\n        (_bn0): BatchNorm2d(2304, eps=0.001, momentum=0.010000000000000009, affine=True, track_running_stats=True)\n        (_depthwise_conv): Conv2dStaticSamePadding(\n          2304, 2304, kernel_size=(5, 5), stride=(1, 1), padding=(4, 4), dilation=(2, 2), groups=2304, bias=False\n          (static_padding): Identity()\n        )\n        (_bn1): BatchNorm2d(2304, eps=0.001, momentum=0.010000000000000009, affine=True, track_running_stats=True)\n        (_se_reduce): Conv2dStaticSamePadding(\n          2304, 96, kernel_size=(1, 1), stride=(1, 1), dilation=(2, 2)\n          (static_padding): Identity()\n        )\n        (_se_expand): Conv2dStaticSamePadding(\n          96, 2304, kernel_size=(1, 1), stride=(1, 1), dilation=(2, 2)\n          (static_padding): Identity()\n        )\n        (_project_conv): Conv2dStaticSamePadding(\n          2304, 384, kernel_size=(1, 1), stride=(1, 1), dilation=(2, 2), bias=False\n          (static_padding): Identity()\n        )\n        (_bn2): BatchNorm2d(384, eps=0.001, momentum=0.010000000000000009, affine=True, track_running_stats=True)\n        (_swish): MemoryEfficientSwish()\n      )\n      (48): MBConvBlock(\n        (_expand_conv): Conv2dStaticSamePadding(\n          384, 2304, kernel_size=(1, 1), stride=(1, 1), dilation=(2, 2), bias=False\n          (static_padding): Identity()\n        )\n        (_bn0): BatchNorm2d(2304, eps=0.001, momentum=0.010000000000000009, affine=True, track_running_stats=True)\n        (_depthwise_conv): Conv2dStaticSamePadding(\n          2304, 2304, kernel_size=(5, 5), stride=(1, 1), padding=(4, 4), dilation=(2, 2), groups=2304, bias=False\n          (static_padding): Identity()\n        )\n        (_bn1): BatchNorm2d(2304, eps=0.001, momentum=0.010000000000000009, affine=True, track_running_stats=True)\n        (_se_reduce): Conv2dStaticSamePadding(\n          2304, 96, kernel_size=(1, 1), stride=(1, 1), dilation=(2, 2)\n          (static_padding): Identity()\n        )\n        (_se_expand): Conv2dStaticSamePadding(\n          96, 2304, kernel_size=(1, 1), stride=(1, 1), dilation=(2, 2)\n          (static_padding): Identity()\n        )\n        (_project_conv): Conv2dStaticSamePadding(\n          2304, 384, kernel_size=(1, 1), stride=(1, 1), dilation=(2, 2), bias=False\n          (static_padding): Identity()\n        )\n        (_bn2): BatchNorm2d(384, eps=0.001, momentum=0.010000000000000009, affine=True, track_running_stats=True)\n        (_swish): MemoryEfficientSwish()\n      )\n      (49): MBConvBlock(\n        (_expand_conv): Conv2dStaticSamePadding(\n          384, 2304, kernel_size=(1, 1), stride=(1, 1), dilation=(2, 2), bias=False\n          (static_padding): Identity()\n        )\n        (_bn0): BatchNorm2d(2304, eps=0.001, momentum=0.010000000000000009, affine=True, track_running_stats=True)\n        (_depthwise_conv): Conv2dStaticSamePadding(\n          2304, 2304, kernel_size=(5, 5), stride=(1, 1), padding=(4, 4), dilation=(2, 2), groups=2304, bias=False\n          (static_padding): Identity()\n        )\n        (_bn1): BatchNorm2d(2304, eps=0.001, momentum=0.010000000000000009, affine=True, track_running_stats=True)\n        (_se_reduce): Conv2dStaticSamePadding(\n          2304, 96, kernel_size=(1, 1), stride=(1, 1), dilation=(2, 2)\n          (static_padding): Identity()\n        )\n        (_se_expand): Conv2dStaticSamePadding(\n          96, 2304, kernel_size=(1, 1), stride=(1, 1), dilation=(2, 2)\n          (static_padding): Identity()\n        )\n        (_project_conv): Conv2dStaticSamePadding(\n          2304, 384, kernel_size=(1, 1), stride=(1, 1), dilation=(2, 2), bias=False\n          (static_padding): Identity()\n        )\n        (_bn2): BatchNorm2d(384, eps=0.001, momentum=0.010000000000000009, affine=True, track_running_stats=True)\n        (_swish): MemoryEfficientSwish()\n      )\n      (50): MBConvBlock(\n        (_expand_conv): Conv2dStaticSamePadding(\n          384, 2304, kernel_size=(1, 1), stride=(1, 1), dilation=(2, 2), bias=False\n          (static_padding): Identity()\n        )\n        (_bn0): BatchNorm2d(2304, eps=0.001, momentum=0.010000000000000009, affine=True, track_running_stats=True)\n        (_depthwise_conv): Conv2dStaticSamePadding(\n          2304, 2304, kernel_size=(5, 5), stride=(1, 1), padding=(4, 4), dilation=(2, 2), groups=2304, bias=False\n          (static_padding): Identity()\n        )\n        (_bn1): BatchNorm2d(2304, eps=0.001, momentum=0.010000000000000009, affine=True, track_running_stats=True)\n        (_se_reduce): Conv2dStaticSamePadding(\n          2304, 96, kernel_size=(1, 1), stride=(1, 1), dilation=(2, 2)\n          (static_padding): Identity()\n        )\n        (_se_expand): Conv2dStaticSamePadding(\n          96, 2304, kernel_size=(1, 1), stride=(1, 1), dilation=(2, 2)\n          (static_padding): Identity()\n        )\n        (_project_conv): Conv2dStaticSamePadding(\n          2304, 384, kernel_size=(1, 1), stride=(1, 1), dilation=(2, 2), bias=False\n          (static_padding): Identity()\n        )\n        (_bn2): BatchNorm2d(384, eps=0.001, momentum=0.010000000000000009, affine=True, track_running_stats=True)\n        (_swish): MemoryEfficientSwish()\n      )\n      (51): MBConvBlock(\n        (_expand_conv): Conv2dStaticSamePadding(\n          384, 2304, kernel_size=(1, 1), stride=(1, 1), dilation=(2, 2), bias=False\n          (static_padding): Identity()\n        )\n        (_bn0): BatchNorm2d(2304, eps=0.001, momentum=0.010000000000000009, affine=True, track_running_stats=True)\n        (_depthwise_conv): Conv2dStaticSamePadding(\n          2304, 2304, kernel_size=(3, 3), stride=(1, 1), padding=(2, 2), dilation=(2, 2), groups=2304, bias=False\n          (static_padding): Identity()\n        )\n        (_bn1): BatchNorm2d(2304, eps=0.001, momentum=0.010000000000000009, affine=True, track_running_stats=True)\n        (_se_reduce): Conv2dStaticSamePadding(\n          2304, 96, kernel_size=(1, 1), stride=(1, 1), dilation=(2, 2)\n          (static_padding): Identity()\n        )\n        (_se_expand): Conv2dStaticSamePadding(\n          96, 2304, kernel_size=(1, 1), stride=(1, 1), dilation=(2, 2)\n          (static_padding): Identity()\n        )\n        (_project_conv): Conv2dStaticSamePadding(\n          2304, 640, kernel_size=(1, 1), stride=(1, 1), dilation=(2, 2), bias=False\n          (static_padding): Identity()\n        )\n        (_bn2): BatchNorm2d(640, eps=0.001, momentum=0.010000000000000009, affine=True, track_running_stats=True)\n        (_swish): MemoryEfficientSwish()\n      )\n      (52): MBConvBlock(\n        (_expand_conv): Conv2dStaticSamePadding(\n          640, 3840, kernel_size=(1, 1), stride=(1, 1), dilation=(2, 2), bias=False\n          (static_padding): Identity()\n        )\n        (_bn0): BatchNorm2d(3840, eps=0.001, momentum=0.010000000000000009, affine=True, track_running_stats=True)\n        (_depthwise_conv): Conv2dStaticSamePadding(\n          3840, 3840, kernel_size=(3, 3), stride=(1, 1), padding=(2, 2), dilation=(2, 2), groups=3840, bias=False\n          (static_padding): Identity()\n        )\n        (_bn1): BatchNorm2d(3840, eps=0.001, momentum=0.010000000000000009, affine=True, track_running_stats=True)\n        (_se_reduce): Conv2dStaticSamePadding(\n          3840, 160, kernel_size=(1, 1), stride=(1, 1), dilation=(2, 2)\n          (static_padding): Identity()\n        )\n        (_se_expand): Conv2dStaticSamePadding(\n          160, 3840, kernel_size=(1, 1), stride=(1, 1), dilation=(2, 2)\n          (static_padding): Identity()\n        )\n        (_project_conv): Conv2dStaticSamePadding(\n          3840, 640, kernel_size=(1, 1), stride=(1, 1), dilation=(2, 2), bias=False\n          (static_padding): Identity()\n        )\n        (_bn2): BatchNorm2d(640, eps=0.001, momentum=0.010000000000000009, affine=True, track_running_stats=True)\n        (_swish): MemoryEfficientSwish()\n      )\n      (53): MBConvBlock(\n        (_expand_conv): Conv2dStaticSamePadding(\n          640, 3840, kernel_size=(1, 1), stride=(1, 1), dilation=(2, 2), bias=False\n          (static_padding): Identity()\n        )\n        (_bn0): BatchNorm2d(3840, eps=0.001, momentum=0.010000000000000009, affine=True, track_running_stats=True)\n        (_depthwise_conv): Conv2dStaticSamePadding(\n          3840, 3840, kernel_size=(3, 3), stride=(1, 1), padding=(2, 2), dilation=(2, 2), groups=3840, bias=False\n          (static_padding): Identity()\n        )\n        (_bn1): BatchNorm2d(3840, eps=0.001, momentum=0.010000000000000009, affine=True, track_running_stats=True)\n        (_se_reduce): Conv2dStaticSamePadding(\n          3840, 160, kernel_size=(1, 1), stride=(1, 1), dilation=(2, 2)\n          (static_padding): Identity()\n        )\n        (_se_expand): Conv2dStaticSamePadding(\n          160, 3840, kernel_size=(1, 1), stride=(1, 1), dilation=(2, 2)\n          (static_padding): Identity()\n        )\n        (_project_conv): Conv2dStaticSamePadding(\n          3840, 640, kernel_size=(1, 1), stride=(1, 1), dilation=(2, 2), bias=False\n          (static_padding): Identity()\n        )\n        (_bn2): BatchNorm2d(640, eps=0.001, momentum=0.010000000000000009, affine=True, track_running_stats=True)\n        (_swish): MemoryEfficientSwish()\n      )\n      (54): MBConvBlock(\n        (_expand_conv): Conv2dStaticSamePadding(\n          640, 3840, kernel_size=(1, 1), stride=(1, 1), dilation=(2, 2), bias=False\n          (static_padding): Identity()\n        )\n        (_bn0): BatchNorm2d(3840, eps=0.001, momentum=0.010000000000000009, affine=True, track_running_stats=True)\n        (_depthwise_conv): Conv2dStaticSamePadding(\n          3840, 3840, kernel_size=(3, 3), stride=(1, 1), padding=(2, 2), dilation=(2, 2), groups=3840, bias=False\n          (static_padding): Identity()\n        )\n        (_bn1): BatchNorm2d(3840, eps=0.001, momentum=0.010000000000000009, affine=True, track_running_stats=True)\n        (_se_reduce): Conv2dStaticSamePadding(\n          3840, 160, kernel_size=(1, 1), stride=(1, 1), dilation=(2, 2)\n          (static_padding): Identity()\n        )\n        (_se_expand): Conv2dStaticSamePadding(\n          160, 3840, kernel_size=(1, 1), stride=(1, 1), dilation=(2, 2)\n          (static_padding): Identity()\n        )\n        (_project_conv): Conv2dStaticSamePadding(\n          3840, 640, kernel_size=(1, 1), stride=(1, 1), dilation=(2, 2), bias=False\n          (static_padding): Identity()\n        )\n        (_bn2): BatchNorm2d(640, eps=0.001, momentum=0.010000000000000009, affine=True, track_running_stats=True)\n        (_swish): MemoryEfficientSwish()\n      )\n    )\n    (_conv_head): Conv2dStaticSamePadding(\n      640, 2560, kernel_size=(1, 1), stride=(1, 1), bias=False\n      (static_padding): Identity()\n    )\n    (_bn1): BatchNorm2d(2560, eps=0.001, momentum=0.010000000000000009, affine=True, track_running_stats=True)\n    (_avg_pooling): AdaptiveAvgPool2d(output_size=1)\n    (_dropout): Dropout(p=0.5, inplace=False)\n    (_swish): MemoryEfficientSwish()\n  )\n  (decoder): DeepLabV3PlusDecoder(\n    (aspp): Sequential(\n      (0): ASPP(\n        (convs): ModuleList(\n          (0): Sequential(\n            (0): Conv2d(640, 256, kernel_size=(1, 1), stride=(1, 1), bias=False)\n            (1): BatchNorm2d(256, eps=1e-05, momentum=0.1, affine=True, track_running_stats=True)\n            (2): ReLU()\n          )\n          (1): ASPPSeparableConv(\n            (0): SeparableConv2d(\n              (0): Conv2d(640, 640, kernel_size=(3, 3), stride=(1, 1), padding=(12, 12), dilation=(12, 12), groups=640, bias=False)\n              (1): Conv2d(640, 256, kernel_size=(1, 1), stride=(1, 1), bias=False)\n            )\n            (1): BatchNorm2d(256, eps=1e-05, momentum=0.1, affine=True, track_running_stats=True)\n            (2): ReLU()\n          )\n          (2): ASPPSeparableConv(\n            (0): SeparableConv2d(\n              (0): Conv2d(640, 640, kernel_size=(3, 3), stride=(1, 1), padding=(24, 24), dilation=(24, 24), groups=640, bias=False)\n              (1): Conv2d(640, 256, kernel_size=(1, 1), stride=(1, 1), bias=False)\n            )\n            (1): BatchNorm2d(256, eps=1e-05, momentum=0.1, affine=True, track_running_stats=True)\n            (2): ReLU()\n          )\n          (3): ASPPSeparableConv(\n            (0): SeparableConv2d(\n              (0): Conv2d(640, 640, kernel_size=(3, 3), stride=(1, 1), padding=(36, 36), dilation=(36, 36), groups=640, bias=False)\n              (1): Conv2d(640, 256, kernel_size=(1, 1), stride=(1, 1), bias=False)\n            )\n            (1): BatchNorm2d(256, eps=1e-05, momentum=0.1, affine=True, track_running_stats=True)\n            (2): ReLU()\n          )\n          (4): ASPPPooling(\n            (0): AdaptiveAvgPool2d(output_size=1)\n            (1): Conv2d(640, 256, kernel_size=(1, 1), stride=(1, 1), bias=False)\n            (2): BatchNorm2d(256, eps=1e-05, momentum=0.1, affine=True, track_running_stats=True)\n            (3): ReLU()\n          )\n        )\n        (project): Sequential(\n          (0): Conv2d(1280, 256, kernel_size=(1, 1), stride=(1, 1), bias=False)\n          (1): BatchNorm2d(256, eps=1e-05, momentum=0.1, affine=True, track_running_stats=True)\n          (2): ReLU()\n          (3): Dropout(p=0.5, inplace=False)\n        )\n      )\n      (1): SeparableConv2d(\n        (0): Conv2d(256, 256, kernel_size=(3, 3), stride=(1, 1), padding=(1, 1), groups=256, bias=False)\n        (1): Conv2d(256, 256, kernel_size=(1, 1), stride=(1, 1), bias=False)\n      )\n      (2): BatchNorm2d(256, eps=1e-05, momentum=0.1, affine=True, track_running_stats=True)\n      (3): ReLU()\n    )\n    (up): UpsamplingBilinear2d(scale_factor=4.0, mode=bilinear)\n    (block1): Sequential(\n      (0): Conv2d(48, 48, kernel_size=(1, 1), stride=(1, 1), bias=False)\n      (1): BatchNorm2d(48, eps=1e-05, momentum=0.1, affine=True, track_running_stats=True)\n      (2): ReLU()\n    )\n    (block2): Sequential(\n      (0): SeparableConv2d(\n        (0): Conv2d(304, 304, kernel_size=(3, 3), stride=(1, 1), padding=(1, 1), groups=304, bias=False)\n        (1): Conv2d(304, 256, kernel_size=(1, 1), stride=(1, 1), bias=False)\n      )\n      (1): BatchNorm2d(256, eps=1e-05, momentum=0.1, affine=True, track_running_stats=True)\n      (2): ReLU()\n    )\n  )\n  (segmentation_head): SegmentationHead(\n    (0): Conv2d(256, 11, kernel_size=(1, 1), stride=(1, 1))\n    (1): UpsamplingBilinear2d(scale_factor=4.0, mode=bilinear)\n    (2): Activation(\n      (activation): Identity()\n    )\n  )\n)\n"
     ]
    }
   ],
   "source": [
    "print(model)"
   ]
  },
  {
   "cell_type": "code",
   "execution_count": 12,
   "metadata": {},
   "outputs": [
    {
     "output_type": "stream",
     "name": "stdout",
     "text": [
      "input shape : torch.Size([2, 3, 512, 512])\n",
      "output shape : torch.Size([2, 11, 512, 512])\n"
     ]
    }
   ],
   "source": [
    "x = torch.rand([2,3,512,512])\n",
    "print(f'input shape : {x.shape}')\n",
    "out = model(x)\n",
    "print(f'output shape : {out.shape}')"
   ]
  },
  {
   "cell_type": "code",
   "execution_count": 29,
   "metadata": {},
   "outputs": [
    {
     "output_type": "stream",
     "name": "stdout",
     "text": [
      "torch.Size([11, 512, 512])\ntorch.Size([11, 1, 1])\ntensor([[[ 0.0012]],\n\n        [[ 0.3014]],\n\n        [[-0.3781]],\n\n        [[-0.1941]],\n\n        [[ 0.3033]],\n\n        [[ 0.1312]],\n\n        [[-0.3318]],\n\n        [[-0.2615]],\n\n        [[-0.3353]],\n\n        [[ 0.6226]],\n\n        [[-0.3456]]], grad_fn=<SliceBackward>)\ntensor([[-0.4867]], grad_fn=<AddBackward0>)\nSoftmax(\n  dim=tensor([[[ 0.0012]],\n  \n          [[ 0.3014]],\n  \n          [[-0.3781]],\n  \n          [[-0.1941]],\n  \n          [[ 0.3033]],\n  \n          [[ 0.1312]],\n  \n          [[-0.3318]],\n  \n          [[-0.2615]],\n  \n          [[-0.3353]],\n  \n          [[ 0.6226]],\n  \n          [[-0.3456]]], grad_fn=<SliceBackward>)\n)\ntensor([[[0.0900]],\n\n        [[0.1214]],\n\n        [[0.0616]],\n\n        [[0.0740]],\n\n        [[0.1217]],\n\n        [[0.1024]],\n\n        [[0.0645]],\n\n        [[0.0692]],\n\n        [[0.0643]],\n\n        [[0.1674]],\n\n        [[0.0636]]], grad_fn=<SoftmaxBackward>)\ntensor(1.0000, grad_fn=<SumBackward0>)\n"
     ]
    }
   ],
   "source": [
    "import torch.nn.functional as F\n",
    "\n",
    "print(out[0].shape)\n",
    "print(out[0][:,:1,:1].shape)\n",
    "test_pixel = out[0][:,1:2,1:2]\n",
    "print(test_pixel)\n",
    "print(sum(test_pixel))\n",
    "print(torch.nn.Softmax(test_pixel))\n",
    "print(F.softmax(test_pixel))\n",
    "print(torch.sum(F.softmax(test_pixel)))"
   ]
  },
  {
   "cell_type": "code",
   "execution_count": null,
   "metadata": {},
   "outputs": [],
   "source": []
  }
 ]
}